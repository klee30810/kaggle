{
  "nbformat": 4,
  "nbformat_minor": 0,
  "metadata": {
    "colab": {
      "name": "3_Pandas.ipynb",
      "provenance": [],
      "collapsed_sections": []
    },
    "kernelspec": {
      "name": "python3",
      "display_name": "Python 3",
      "language": "python"
    }
  },
  "cells": [
    {
      "cell_type": "markdown",
      "metadata": {
        "id": "FpZzKtapvQdX"
      },
      "source": [
        "# Stacking\n",
        "## Stacking lightGBM\n",
        "### Libray importing & etc"
      ]
    },
    {
      "cell_type": "code",
      "metadata": {
        "colab": {
          "base_uri": "https://localhost:8080/"
        },
        "id": "YXg1o2YVvQMQ",
        "outputId": "bd55ca3e-d25e-4a95-8595-187e8a13f0f3"
      },
      "source": [
        "%reload_ext autoreload\n",
        "%autoreload 2\n",
        "%matplotlib inline"
      ],
      "execution_count": 4,
      "outputs": []
    },
    {
      "cell_type": "code",
      "metadata": {
        "id": "CprU9i87wBMo"
      },
      "source": [
        "import lightgbm as lgb\n",
        "from matplotlib import pyplot as plt\n",
        "from matplotlib import rcParams\n",
        "import numpy as np\n",
        "from pathlib import Path\n",
        "import pandas as pd\n",
        "from sklearn.linear_model import LogisticRegression\n",
        "from sklearn.metrics import accuracy_score\n",
        "from sklearn.model_selection import StratifiedKFold\n",
        "from sklearn.preprocessing import StandardScaler\n",
        "import seaborn as sns\n",
        "import warnings"
      ],
      "execution_count": 5,
      "outputs": []
    },
    {
      "cell_type": "code",
      "metadata": {
        "id": "1_I3J6O5wl_H"
      },
      "source": [
        "rcParams['figure.figsize'] = (16, 8)\n",
        "plt.style.use('fivethirtyeight')\n",
        "pd.set_option('max_columns', 100)\n",
        "pd.set_option('display.precision', 4)\n",
        "warnings.simplefilter('ignore')"
      ],
      "execution_count": 6,
      "outputs": []
    },
    {
      "cell_type": "markdown",
      "metadata": {
        "id": "16E8QaLnuYeo"
      },
      "source": [
        "### Data loading"
      ]
    },
    {
      "cell_type": "code",
      "metadata": {
        "id": "qKFaUAegIRYP"
      },
      "source": [
        "data_dir = Path('../data/dacon-dku')\n",
        "feature_dir = Path('../build/feature')\n",
        "val_dir = Path('../build/val')\n",
        "tst_dir = Path('../build/tst')\n",
        "sub_dir = Path('../build/sub')\n",
        "\n",
        "trn_file = data_dir / 'train.csv'\n",
        "tst_file = data_dir / 'test.csv'\n",
        "sample_file = data_dir / 'sample_submission.csv'\n",
        "\n",
        "target_col = 'class'\n",
        "n_fold = 5\n",
        "n_class = 3\n",
        "seed = 42"
      ],
      "execution_count": 7,
      "outputs": []
    },
    {
      "cell_type": "code",
      "metadata": {
        "colab": {
          "base_uri": "https://localhost:8080/",
          "height": 470
        },
        "id": "QUAM9kYtzKsP",
        "outputId": "215baf12-47c6-4816-e014-5a80f433dbf5"
      },
      "source": [
        "algo_name = 'lgbcv'\n",
        "feature_name = 'stacking1'\n",
        "model_name = f'{algo_name}_{feature_name}'\n",
        "\n",
        "feature_file = feature_dir / f'{feature_name}.csv'\n",
        "p_val_file = val_dir / f'{model_name}.val.csv'\n",
        "p_tst_file = tst_dir / f'{model_name}.tst.csv'\n",
        "sub_file = sub_dir / f'{model_name}.csv'"
      ],
      "execution_count": 8,
      "outputs": []
    },
    {
      "source": [
        "### Stacking Feature 생성"
      ],
      "cell_type": "markdown",
      "metadata": {}
    },
    {
      "cell_type": "code",
      "execution_count": 13,
      "metadata": {},
      "outputs": [
        {
          "output_type": "execute_result",
          "data": {
            "text/plain": [
              "['lrcv_polyfeature_class0',\n",
              " 'lrcv_polyfeature_class1',\n",
              " 'lrcv_polyfeature_class2',\n",
              " 'rfcv_feature_class0',\n",
              " 'rfcv_feature_class1',\n",
              " 'rfcv_feature_class2',\n",
              " 'lgbcv_feature_class0',\n",
              " 'lgbcv_feature_class1',\n",
              " 'lgbcv_feature_class2']"
            ]
          },
          "metadata": {},
          "execution_count": 13
        }
      ],
      "source": [
        "model_names = ['lrcv_polyfeature', 'rfcv_feature', 'lgbcv_feature']\n",
        "trn = []\n",
        "tst = []\n",
        "feature_names = []\n",
        "\n",
        "for model in model_names:\n",
        "    trn.append(np.loadtxt(val_dir/f'{model}.val.csv', delimiter=','))\n",
        "    tst.append(np.loadtxt(tst_dir/f'{model}.tst.csv', delimiter=','))\n",
        "    feature_names += [f'{model}_class0', f'{model}_class1', f'{model}_class2']\n",
        "\n",
        "trn = np.hstack(trn)\n",
        "tst = np.hstack(tst)\n",
        "feature_names"
      ]
    },
    {
      "cell_type": "code",
      "execution_count": 14,
      "metadata": {},
      "outputs": [
        {
          "output_type": "execute_result",
          "data": {
            "text/plain": [
              "(320000,)"
            ]
          },
          "metadata": {},
          "execution_count": 14
        }
      ],
      "source": [
        "y = pd.read_csv(trn_file, index_col=0, usecols=['id', target_col]).values.flatten()\n",
        "y.shape"
      ]
    },
    {
      "cell_type": "markdown",
      "metadata": {
        "id": "c7JWMF-Wyr4u"
      },
      "source": [
        "### Stratified K-Fold Cross Validation"
      ]
    },
    {
      "cell_type": "code",
      "execution_count": 16,
      "metadata": {},
      "outputs": [],
      "source": [
        "cv = StratifiedKFold(n_splits=n_fold, shuffle=True, random_state=seed)"
      ]
    },
    {
      "source": [
        "### LightGBM Training"
      ],
      "cell_type": "markdown",
      "metadata": {}
    },
    {
      "source": [
        "p_val = np.zeros((trn.shape[0], n_class))\n",
        "p_tst = np.zeros((tst.shape[0], n_class))\n",
        "\n",
        "for i, (i_trn, i_val) in enumerate(cv.split(trn, y), 1):\n",
        "    print(f'training model for CV #{i}')\n",
        "\n",
        "    clf = lgb.LGBMClassifier(objective='multiclass',\n",
        "                             n_estimators=1000,\n",
        "                             num_leaves=64,\n",
        "                             learning_rate=.1,\n",
        "                             min_child_samples=10,\n",
        "                             subsample=.5,\n",
        "                             subsample_freq=1,\n",
        "                             colsample_bytree=.8,\n",
        "                             random_state=seed,\n",
        "                             n_jobs=-1\n",
        "                             )\n",
        "\n",
        "    clf.fit(trn[i_trn], y[i_trn],\n",
        "            eval_set=[(trn[i_val], y[i_val])],\n",
        "            eval_metric='multiclass',\n",
        "            early_stopping_rounds=10)                             \n",
        "\n",
        "    p_val[i_val, :] = clf.predict_proba(trn[i_val])\n",
        "    p_tst += clf.predict_proba(tst) / n_fold"
      ],
      "cell_type": "code",
      "metadata": {
        "id": "-Bf5cbo10DjV"
      },
      "execution_count": 19,
      "outputs": [
        {
          "output_type": "stream",
          "name": "stdout",
          "text": [
            "training model for CV #1\n",
            "[1]\tvalid_0's multi_logloss: 0.835905\n",
            "Training until validation scores don't improve for 10 rounds\n",
            "[2]\tvalid_0's multi_logloss: 0.723996\n",
            "[3]\tvalid_0's multi_logloss: 0.635808\n",
            "[4]\tvalid_0's multi_logloss: 0.564521\n",
            "[5]\tvalid_0's multi_logloss: 0.505956\n",
            "[6]\tvalid_0's multi_logloss: 0.457302\n",
            "[7]\tvalid_0's multi_logloss: 0.416532\n",
            "[8]\tvalid_0's multi_logloss: 0.38213\n",
            "[9]\tvalid_0's multi_logloss: 0.352832\n",
            "[10]\tvalid_0's multi_logloss: 0.327875\n",
            "[11]\tvalid_0's multi_logloss: 0.306478\n",
            "[12]\tvalid_0's multi_logloss: 0.288124\n",
            "[13]\tvalid_0's multi_logloss: 0.272344\n",
            "[14]\tvalid_0's multi_logloss: 0.258717\n",
            "[15]\tvalid_0's multi_logloss: 0.246967\n",
            "[16]\tvalid_0's multi_logloss: 0.236701\n",
            "[17]\tvalid_0's multi_logloss: 0.227854\n",
            "[18]\tvalid_0's multi_logloss: 0.22014\n",
            "[19]\tvalid_0's multi_logloss: 0.213384\n",
            "[20]\tvalid_0's multi_logloss: 0.207487\n",
            "[21]\tvalid_0's multi_logloss: 0.202347\n",
            "[22]\tvalid_0's multi_logloss: 0.197849\n",
            "[23]\tvalid_0's multi_logloss: 0.193861\n",
            "[24]\tvalid_0's multi_logloss: 0.190347\n",
            "[25]\tvalid_0's multi_logloss: 0.187288\n",
            "[26]\tvalid_0's multi_logloss: 0.18461\n",
            "[27]\tvalid_0's multi_logloss: 0.182241\n",
            "[28]\tvalid_0's multi_logloss: 0.180117\n",
            "[29]\tvalid_0's multi_logloss: 0.178289\n",
            "[30]\tvalid_0's multi_logloss: 0.176623\n",
            "[31]\tvalid_0's multi_logloss: 0.175159\n",
            "[32]\tvalid_0's multi_logloss: 0.173884\n",
            "[33]\tvalid_0's multi_logloss: 0.172675\n",
            "[34]\tvalid_0's multi_logloss: 0.171621\n",
            "[35]\tvalid_0's multi_logloss: 0.170665\n",
            "[36]\tvalid_0's multi_logloss: 0.169823\n",
            "[37]\tvalid_0's multi_logloss: 0.169067\n",
            "[38]\tvalid_0's multi_logloss: 0.168439\n",
            "[39]\tvalid_0's multi_logloss: 0.167806\n",
            "[40]\tvalid_0's multi_logloss: 0.167236\n",
            "[41]\tvalid_0's multi_logloss: 0.166759\n",
            "[42]\tvalid_0's multi_logloss: 0.166306\n",
            "[43]\tvalid_0's multi_logloss: 0.165876\n",
            "[44]\tvalid_0's multi_logloss: 0.166421\n",
            "[45]\tvalid_0's multi_logloss: 0.165561\n",
            "[46]\tvalid_0's multi_logloss: 0.165306\n",
            "[47]\tvalid_0's multi_logloss: 0.165003\n",
            "[48]\tvalid_0's multi_logloss: 0.16475\n",
            "[49]\tvalid_0's multi_logloss: 0.164559\n",
            "[50]\tvalid_0's multi_logloss: 0.164389\n",
            "[51]\tvalid_0's multi_logloss: 0.164211\n",
            "[52]\tvalid_0's multi_logloss: 0.16406\n",
            "[53]\tvalid_0's multi_logloss: 0.163873\n",
            "[54]\tvalid_0's multi_logloss: 0.185467\n",
            "[55]\tvalid_0's multi_logloss: 0.165899\n",
            "[56]\tvalid_0's multi_logloss: 0.165398\n",
            "[57]\tvalid_0's multi_logloss: 0.171372\n",
            "[58]\tvalid_0's multi_logloss: 0.16887\n",
            "[59]\tvalid_0's multi_logloss: 0.173789\n",
            "[60]\tvalid_0's multi_logloss: 0.176228\n",
            "[61]\tvalid_0's multi_logloss: 0.174497\n",
            "[62]\tvalid_0's multi_logloss: 0.173226\n",
            "[63]\tvalid_0's multi_logloss: 0.17148\n",
            "Early stopping, best iteration is:\n",
            "[53]\tvalid_0's multi_logloss: 0.163873\n",
            "training model for CV #2\n",
            "[1]\tvalid_0's multi_logloss: 0.836086\n",
            "Training until validation scores don't improve for 10 rounds\n",
            "[2]\tvalid_0's multi_logloss: 0.724397\n",
            "[3]\tvalid_0's multi_logloss: 0.636457\n",
            "[4]\tvalid_0's multi_logloss: 0.565466\n",
            "[5]\tvalid_0's multi_logloss: 0.507115\n",
            "[6]\tvalid_0's multi_logloss: 0.458663\n",
            "[7]\tvalid_0's multi_logloss: 0.417928\n",
            "[8]\tvalid_0's multi_logloss: 0.383549\n",
            "[9]\tvalid_0's multi_logloss: 0.354294\n",
            "[10]\tvalid_0's multi_logloss: 0.329421\n",
            "[11]\tvalid_0's multi_logloss: 0.308095\n",
            "[12]\tvalid_0's multi_logloss: 0.289783\n",
            "[13]\tvalid_0's multi_logloss: 0.273966\n",
            "[14]\tvalid_0's multi_logloss: 0.260306\n",
            "[15]\tvalid_0's multi_logloss: 0.248606\n",
            "[16]\tvalid_0's multi_logloss: 0.238356\n",
            "[17]\tvalid_0's multi_logloss: 0.229496\n",
            "[18]\tvalid_0's multi_logloss: 0.221773\n",
            "[19]\tvalid_0's multi_logloss: 0.214984\n",
            "[20]\tvalid_0's multi_logloss: 0.209099\n",
            "[21]\tvalid_0's multi_logloss: 0.20391\n",
            "[22]\tvalid_0's multi_logloss: 0.199378\n",
            "[23]\tvalid_0's multi_logloss: 0.195441\n",
            "[24]\tvalid_0's multi_logloss: 0.191951\n",
            "[25]\tvalid_0's multi_logloss: 0.188839\n",
            "[26]\tvalid_0's multi_logloss: 0.186097\n",
            "[27]\tvalid_0's multi_logloss: 0.183685\n",
            "[28]\tvalid_0's multi_logloss: 0.18153\n",
            "[29]\tvalid_0's multi_logloss: 0.179656\n",
            "[30]\tvalid_0's multi_logloss: 0.177987\n",
            "[31]\tvalid_0's multi_logloss: 0.176496\n",
            "[32]\tvalid_0's multi_logloss: 0.175164\n",
            "[33]\tvalid_0's multi_logloss: 0.174008\n",
            "[34]\tvalid_0's multi_logloss: 0.173007\n",
            "[35]\tvalid_0's multi_logloss: 0.172058\n",
            "[36]\tvalid_0's multi_logloss: 0.171236\n",
            "[37]\tvalid_0's multi_logloss: 0.170482\n",
            "[38]\tvalid_0's multi_logloss: 0.169827\n",
            "[39]\tvalid_0's multi_logloss: 0.169219\n",
            "[40]\tvalid_0's multi_logloss: 0.168679\n",
            "[41]\tvalid_0's multi_logloss: 0.168195\n",
            "[42]\tvalid_0's multi_logloss: 0.167754\n",
            "[43]\tvalid_0's multi_logloss: 0.167386\n",
            "[44]\tvalid_0's multi_logloss: 0.167026\n",
            "[45]\tvalid_0's multi_logloss: 0.166697\n",
            "[46]\tvalid_0's multi_logloss: 0.166453\n",
            "[47]\tvalid_0's multi_logloss: 0.166184\n",
            "[48]\tvalid_0's multi_logloss: 0.16591\n",
            "[49]\tvalid_0's multi_logloss: 0.165699\n",
            "[50]\tvalid_0's multi_logloss: 0.165479\n",
            "[51]\tvalid_0's multi_logloss: 0.165262\n",
            "[52]\tvalid_0's multi_logloss: 0.165526\n",
            "[53]\tvalid_0's multi_logloss: 0.16536\n",
            "[54]\tvalid_0's multi_logloss: 0.165086\n",
            "[55]\tvalid_0's multi_logloss: 0.165197\n",
            "[56]\tvalid_0's multi_logloss: 0.167821\n",
            "[57]\tvalid_0's multi_logloss: 0.16646\n",
            "[58]\tvalid_0's multi_logloss: 0.166263\n",
            "[59]\tvalid_0's multi_logloss: 0.167493\n",
            "[60]\tvalid_0's multi_logloss: 0.17392\n",
            "[61]\tvalid_0's multi_logloss: 0.167661\n",
            "[62]\tvalid_0's multi_logloss: 0.173106\n",
            "[63]\tvalid_0's multi_logloss: 0.167167\n",
            "[64]\tvalid_0's multi_logloss: 0.173742\n",
            "Early stopping, best iteration is:\n",
            "[54]\tvalid_0's multi_logloss: 0.165086\n",
            "training model for CV #3\n",
            "[1]\tvalid_0's multi_logloss: 0.835998\n",
            "Training until validation scores don't improve for 10 rounds\n",
            "[2]\tvalid_0's multi_logloss: 0.724238\n",
            "[3]\tvalid_0's multi_logloss: 0.636241\n",
            "[4]\tvalid_0's multi_logloss: 0.56532\n",
            "[5]\tvalid_0's multi_logloss: 0.506956\n",
            "[6]\tvalid_0's multi_logloss: 0.458435\n",
            "[7]\tvalid_0's multi_logloss: 0.417748\n",
            "[8]\tvalid_0's multi_logloss: 0.383356\n",
            "[9]\tvalid_0's multi_logloss: 0.354348\n",
            "[10]\tvalid_0's multi_logloss: 0.32949\n",
            "[11]\tvalid_0's multi_logloss: 0.30818\n",
            "[12]\tvalid_0's multi_logloss: 0.289923\n",
            "[13]\tvalid_0's multi_logloss: 0.27419\n",
            "[14]\tvalid_0's multi_logloss: 0.260665\n",
            "[15]\tvalid_0's multi_logloss: 0.248991\n",
            "[16]\tvalid_0's multi_logloss: 0.238813\n",
            "[17]\tvalid_0's multi_logloss: 0.229962\n",
            "[18]\tvalid_0's multi_logloss: 0.222271\n",
            "[19]\tvalid_0's multi_logloss: 0.215538\n",
            "[20]\tvalid_0's multi_logloss: 0.209638\n",
            "[21]\tvalid_0's multi_logloss: 0.204461\n",
            "[22]\tvalid_0's multi_logloss: 0.199942\n",
            "[23]\tvalid_0's multi_logloss: 0.19599\n",
            "[24]\tvalid_0's multi_logloss: 0.192515\n",
            "[25]\tvalid_0's multi_logloss: 0.18946\n",
            "[26]\tvalid_0's multi_logloss: 0.186739\n",
            "[27]\tvalid_0's multi_logloss: 0.184334\n",
            "[28]\tvalid_0's multi_logloss: 0.182234\n",
            "[29]\tvalid_0's multi_logloss: 0.180384\n",
            "[30]\tvalid_0's multi_logloss: 0.178721\n",
            "[31]\tvalid_0's multi_logloss: 0.177257\n",
            "[32]\tvalid_0's multi_logloss: 0.175934\n",
            "[33]\tvalid_0's multi_logloss: 0.174794\n",
            "[34]\tvalid_0's multi_logloss: 0.173744\n",
            "[35]\tvalid_0's multi_logloss: 0.172835\n",
            "[36]\tvalid_0's multi_logloss: 0.171982\n",
            "[37]\tvalid_0's multi_logloss: 0.171212\n",
            "[38]\tvalid_0's multi_logloss: 0.170521\n",
            "[39]\tvalid_0's multi_logloss: 0.16995\n",
            "[40]\tvalid_0's multi_logloss: 0.169419\n",
            "[41]\tvalid_0's multi_logloss: 0.168925\n",
            "[42]\tvalid_0's multi_logloss: 0.16852\n",
            "[43]\tvalid_0's multi_logloss: 0.168252\n",
            "[44]\tvalid_0's multi_logloss: 0.167847\n",
            "[45]\tvalid_0's multi_logloss: 0.167496\n",
            "[46]\tvalid_0's multi_logloss: 0.167205\n",
            "[47]\tvalid_0's multi_logloss: 0.167168\n",
            "[48]\tvalid_0's multi_logloss: 0.166831\n",
            "[49]\tvalid_0's multi_logloss: 0.166569\n",
            "[50]\tvalid_0's multi_logloss: 0.166366\n",
            "[51]\tvalid_0's multi_logloss: 0.166175\n",
            "[52]\tvalid_0's multi_logloss: 0.166099\n",
            "[53]\tvalid_0's multi_logloss: 0.165965\n",
            "[54]\tvalid_0's multi_logloss: 0.165797\n",
            "[55]\tvalid_0's multi_logloss: 0.166263\n",
            "[56]\tvalid_0's multi_logloss: 0.165579\n",
            "[57]\tvalid_0's multi_logloss: 0.165529\n",
            "[58]\tvalid_0's multi_logloss: 0.165443\n",
            "[59]\tvalid_0's multi_logloss: 0.165483\n",
            "[60]\tvalid_0's multi_logloss: 0.16538\n",
            "[61]\tvalid_0's multi_logloss: 0.165313\n",
            "[62]\tvalid_0's multi_logloss: 0.165268\n",
            "[63]\tvalid_0's multi_logloss: 0.165183\n",
            "[64]\tvalid_0's multi_logloss: 0.165081\n",
            "[65]\tvalid_0's multi_logloss: 0.165051\n",
            "[66]\tvalid_0's multi_logloss: 0.165046\n",
            "[67]\tvalid_0's multi_logloss: 0.165886\n",
            "[68]\tvalid_0's multi_logloss: 0.165514\n",
            "[69]\tvalid_0's multi_logloss: 0.165487\n",
            "[70]\tvalid_0's multi_logloss: 0.167103\n",
            "[71]\tvalid_0's multi_logloss: 0.168384\n",
            "[72]\tvalid_0's multi_logloss: 0.165157\n",
            "[73]\tvalid_0's multi_logloss: 0.165094\n",
            "[74]\tvalid_0's multi_logloss: 0.165104\n",
            "[75]\tvalid_0's multi_logloss: 0.165147\n",
            "[76]\tvalid_0's multi_logloss: 0.165123\n",
            "Early stopping, best iteration is:\n",
            "[66]\tvalid_0's multi_logloss: 0.165046\n",
            "training model for CV #4\n",
            "[1]\tvalid_0's multi_logloss: 0.836287\n",
            "Training until validation scores don't improve for 10 rounds\n",
            "[2]\tvalid_0's multi_logloss: 0.724483\n",
            "[3]\tvalid_0's multi_logloss: 0.63668\n",
            "[4]\tvalid_0's multi_logloss: 0.565746\n",
            "[5]\tvalid_0's multi_logloss: 0.507278\n",
            "[6]\tvalid_0's multi_logloss: 0.458783\n",
            "[7]\tvalid_0's multi_logloss: 0.418112\n",
            "[8]\tvalid_0's multi_logloss: 0.383749\n",
            "[9]\tvalid_0's multi_logloss: 0.354554\n",
            "[10]\tvalid_0's multi_logloss: 0.329749\n",
            "[11]\tvalid_0's multi_logloss: 0.308496\n",
            "[12]\tvalid_0's multi_logloss: 0.290216\n",
            "[13]\tvalid_0's multi_logloss: 0.274515\n",
            "[14]\tvalid_0's multi_logloss: 0.260913\n",
            "[15]\tvalid_0's multi_logloss: 0.249263\n",
            "[16]\tvalid_0's multi_logloss: 0.239063\n",
            "[17]\tvalid_0's multi_logloss: 0.230216\n",
            "[18]\tvalid_0's multi_logloss: 0.222531\n",
            "[19]\tvalid_0's multi_logloss: 0.215799\n",
            "[20]\tvalid_0's multi_logloss: 0.20993\n",
            "[21]\tvalid_0's multi_logloss: 0.20482\n",
            "[22]\tvalid_0's multi_logloss: 0.200274\n",
            "[23]\tvalid_0's multi_logloss: 0.196377\n",
            "[24]\tvalid_0's multi_logloss: 0.192914\n",
            "[25]\tvalid_0's multi_logloss: 0.189897\n",
            "[26]\tvalid_0's multi_logloss: 0.187245\n",
            "[27]\tvalid_0's multi_logloss: 0.184861\n",
            "[28]\tvalid_0's multi_logloss: 0.182772\n",
            "[29]\tvalid_0's multi_logloss: 0.180896\n",
            "[30]\tvalid_0's multi_logloss: 0.179272\n",
            "[31]\tvalid_0's multi_logloss: 0.177805\n",
            "[32]\tvalid_0's multi_logloss: 0.176509\n",
            "[33]\tvalid_0's multi_logloss: 0.175394\n",
            "[34]\tvalid_0's multi_logloss: 0.17434\n",
            "[35]\tvalid_0's multi_logloss: 0.173398\n",
            "[36]\tvalid_0's multi_logloss: 0.17257\n",
            "[37]\tvalid_0's multi_logloss: 0.171812\n",
            "[38]\tvalid_0's multi_logloss: 0.171142\n",
            "[39]\tvalid_0's multi_logloss: 0.170653\n",
            "[40]\tvalid_0's multi_logloss: 0.170108\n",
            "[41]\tvalid_0's multi_logloss: 0.169688\n",
            "[42]\tvalid_0's multi_logloss: 0.169278\n",
            "[43]\tvalid_0's multi_logloss: 0.168962\n",
            "[44]\tvalid_0's multi_logloss: 0.169333\n",
            "[45]\tvalid_0's multi_logloss: 0.168854\n",
            "[46]\tvalid_0's multi_logloss: 0.168514\n",
            "[47]\tvalid_0's multi_logloss: 0.168156\n",
            "[48]\tvalid_0's multi_logloss: 0.168101\n",
            "[49]\tvalid_0's multi_logloss: 0.167833\n",
            "[50]\tvalid_0's multi_logloss: 0.167634\n",
            "[51]\tvalid_0's multi_logloss: 0.167496\n",
            "[52]\tvalid_0's multi_logloss: 0.167338\n",
            "[53]\tvalid_0's multi_logloss: 0.167145\n",
            "[54]\tvalid_0's multi_logloss: 0.167653\n",
            "[55]\tvalid_0's multi_logloss: 0.167255\n",
            "[56]\tvalid_0's multi_logloss: 0.170029\n",
            "[57]\tvalid_0's multi_logloss: 0.167362\n",
            "[58]\tvalid_0's multi_logloss: 0.168049\n",
            "[59]\tvalid_0's multi_logloss: 0.166981\n",
            "[60]\tvalid_0's multi_logloss: 0.16856\n",
            "[61]\tvalid_0's multi_logloss: 0.170027\n",
            "[62]\tvalid_0's multi_logloss: 0.170383\n",
            "[63]\tvalid_0's multi_logloss: 0.168567\n",
            "[64]\tvalid_0's multi_logloss: 0.167427\n",
            "[65]\tvalid_0's multi_logloss: 0.167383\n",
            "[66]\tvalid_0's multi_logloss: 0.168041\n",
            "[67]\tvalid_0's multi_logloss: 0.168163\n",
            "[68]\tvalid_0's multi_logloss: 0.167696\n",
            "[69]\tvalid_0's multi_logloss: 0.167677\n",
            "Early stopping, best iteration is:\n",
            "[59]\tvalid_0's multi_logloss: 0.166981\n",
            "training model for CV #5\n",
            "[1]\tvalid_0's multi_logloss: 0.836018\n",
            "Training until validation scores don't improve for 10 rounds\n",
            "[2]\tvalid_0's multi_logloss: 0.724174\n",
            "[3]\tvalid_0's multi_logloss: 0.636135\n",
            "[4]\tvalid_0's multi_logloss: 0.564975\n",
            "[5]\tvalid_0's multi_logloss: 0.506475\n",
            "[6]\tvalid_0's multi_logloss: 0.457727\n",
            "[7]\tvalid_0's multi_logloss: 0.416994\n",
            "[8]\tvalid_0's multi_logloss: 0.382485\n",
            "[9]\tvalid_0's multi_logloss: 0.353147\n",
            "[10]\tvalid_0's multi_logloss: 0.328201\n",
            "[11]\tvalid_0's multi_logloss: 0.306823\n",
            "[12]\tvalid_0's multi_logloss: 0.288497\n",
            "[13]\tvalid_0's multi_logloss: 0.272828\n",
            "[14]\tvalid_0's multi_logloss: 0.259203\n",
            "[15]\tvalid_0's multi_logloss: 0.247358\n",
            "[16]\tvalid_0's multi_logloss: 0.237152\n",
            "[17]\tvalid_0's multi_logloss: 0.228244\n",
            "[18]\tvalid_0's multi_logloss: 0.220513\n",
            "[19]\tvalid_0's multi_logloss: 0.213768\n",
            "[20]\tvalid_0's multi_logloss: 0.207888\n",
            "[21]\tvalid_0's multi_logloss: 0.202709\n",
            "[22]\tvalid_0's multi_logloss: 0.198191\n",
            "[23]\tvalid_0's multi_logloss: 0.194196\n",
            "[24]\tvalid_0's multi_logloss: 0.1908\n",
            "[25]\tvalid_0's multi_logloss: 0.18779\n",
            "[26]\tvalid_0's multi_logloss: 0.185064\n",
            "[27]\tvalid_0's multi_logloss: 0.182683\n",
            "[28]\tvalid_0's multi_logloss: 0.180578\n",
            "[29]\tvalid_0's multi_logloss: 0.178747\n",
            "[30]\tvalid_0's multi_logloss: 0.177108\n",
            "[31]\tvalid_0's multi_logloss: 0.175632\n",
            "[32]\tvalid_0's multi_logloss: 0.174368\n",
            "[33]\tvalid_0's multi_logloss: 0.17321\n",
            "[34]\tvalid_0's multi_logloss: 0.172193\n",
            "[35]\tvalid_0's multi_logloss: 0.171288\n",
            "[36]\tvalid_0's multi_logloss: 0.170439\n",
            "[37]\tvalid_0's multi_logloss: 0.169679\n",
            "[38]\tvalid_0's multi_logloss: 0.169001\n",
            "[39]\tvalid_0's multi_logloss: 0.168472\n",
            "[40]\tvalid_0's multi_logloss: 0.167928\n",
            "[41]\tvalid_0's multi_logloss: 0.167487\n",
            "[42]\tvalid_0's multi_logloss: 0.16709\n",
            "[43]\tvalid_0's multi_logloss: 0.166749\n",
            "[44]\tvalid_0's multi_logloss: 0.166377\n",
            "[45]\tvalid_0's multi_logloss: 0.166035\n",
            "[46]\tvalid_0's multi_logloss: 0.165792\n",
            "[47]\tvalid_0's multi_logloss: 0.165573\n",
            "[48]\tvalid_0's multi_logloss: 0.165271\n",
            "[49]\tvalid_0's multi_logloss: 0.165067\n",
            "[50]\tvalid_0's multi_logloss: 0.164991\n",
            "[51]\tvalid_0's multi_logloss: 0.165801\n",
            "[52]\tvalid_0's multi_logloss: 0.164818\n",
            "[53]\tvalid_0's multi_logloss: 0.164509\n",
            "[54]\tvalid_0's multi_logloss: 0.166457\n",
            "[55]\tvalid_0's multi_logloss: 0.165563\n",
            "[56]\tvalid_0's multi_logloss: 0.165593\n",
            "[57]\tvalid_0's multi_logloss: 0.165027\n",
            "[58]\tvalid_0's multi_logloss: 0.16487\n",
            "[59]\tvalid_0's multi_logloss: 0.164697\n",
            "[60]\tvalid_0's multi_logloss: 0.16455\n",
            "[61]\tvalid_0's multi_logloss: 0.164453\n",
            "[62]\tvalid_0's multi_logloss: 0.16475\n",
            "[63]\tvalid_0's multi_logloss: 0.164631\n",
            "[64]\tvalid_0's multi_logloss: 0.17975\n",
            "[65]\tvalid_0's multi_logloss: 0.164952\n",
            "[66]\tvalid_0's multi_logloss: 0.164325\n",
            "[67]\tvalid_0's multi_logloss: 0.176361\n",
            "[68]\tvalid_0's multi_logloss: 0.163894\n",
            "[69]\tvalid_0's multi_logloss: 0.163789\n",
            "[70]\tvalid_0's multi_logloss: 0.165394\n",
            "[71]\tvalid_0's multi_logloss: 0.165359\n",
            "[72]\tvalid_0's multi_logloss: 0.164228\n",
            "[73]\tvalid_0's multi_logloss: 0.163673\n",
            "[74]\tvalid_0's multi_logloss: 0.165834\n",
            "[75]\tvalid_0's multi_logloss: 0.16751\n",
            "[76]\tvalid_0's multi_logloss: 0.16528\n",
            "[77]\tvalid_0's multi_logloss: 0.169047\n",
            "[78]\tvalid_0's multi_logloss: 0.1718\n",
            "[79]\tvalid_0's multi_logloss: 0.166382\n",
            "[80]\tvalid_0's multi_logloss: 0.166343\n",
            "[81]\tvalid_0's multi_logloss: 0.166318\n",
            "[82]\tvalid_0's multi_logloss: 0.172733\n",
            "[83]\tvalid_0's multi_logloss: 0.167844\n",
            "Early stopping, best iteration is:\n",
            "[73]\tvalid_0's multi_logloss: 0.163673\n"
          ]
        }
      ]
    },
    {
      "cell_type": "code",
      "metadata": {
        "colab": {
          "base_uri": "https://localhost:8080/",
          "height": 273
        },
        "id": "WZ23i_3Yu0_H",
        "outputId": "c25b27ff-c326-4a10-b40a-bd047e25f33b"
      },
      "source": [
        "print(f'{accuracy_score(y, np.argmax(p_val, axis=1))*100:.4f}%')"
      ],
      "execution_count": 20,
      "outputs": [
        {
          "output_type": "stream",
          "name": "stdout",
          "text": [
            "93.1363%\n"
          ]
        }
      ]
    },
    {
      "cell_type": "code",
      "execution_count": 21,
      "metadata": {},
      "outputs": [
        {
          "output_type": "stream",
          "name": "stdout",
          "text": [
            "(320000, 3) (80000, 3)\n"
          ]
        }
      ],
      "source": [
        "print(p_val.shape, p_tst.shape)"
      ]
    },
    {
      "cell_type": "code",
      "execution_count": 23,
      "metadata": {},
      "outputs": [],
      "source": [
        "np.savetxt(p_val_file, p_val, fmt='%.6f', delimiter=',')\n",
        "np.savetxt(p_tst_file, p_tst, fmt='%.6f', delimiter=',')"
      ]
    },
    {
      "source": [
        "### Feature importance Visualization"
      ],
      "cell_type": "markdown",
      "metadata": {}
    },
    {
      "cell_type": "code",
      "execution_count": 24,
      "metadata": {},
      "outputs": [
        {
          "output_type": "error",
          "ename": "AttributeError",
          "evalue": "'LGBMClassifier' object has no attribute 'coef_'",
          "traceback": [
            "\u001b[1;31m---------------------------------------------------------------------------\u001b[0m",
            "\u001b[1;31mAttributeError\u001b[0m                            Traceback (most recent call last)",
            "\u001b[1;32m<ipython-input-24-742ca016ff99>\u001b[0m in \u001b[0;36m<module>\u001b[1;34m\u001b[0m\n\u001b[1;32m----> 1\u001b[1;33m \u001b[0mclf\u001b[0m\u001b[1;33m.\u001b[0m\u001b[0mcoef_\u001b[0m\u001b[1;33m.\u001b[0m\u001b[0mshape\u001b[0m\u001b[1;33m\u001b[0m\u001b[1;33m\u001b[0m\u001b[0m\n\u001b[0m",
            "\u001b[1;31mAttributeError\u001b[0m: 'LGBMClassifier' object has no attribute 'coef_'"
          ]
        }
      ],
      "source": [
        "clf.coef_.shape"
      ]
    },
    {
      "cell_type": "code",
      "execution_count": 26,
      "metadata": {},
      "outputs": [
        {
          "output_type": "execute_result",
          "data": {
            "text/plain": [
              "<AxesSubplot:ylabel='feature'>"
            ]
          },
          "metadata": {},
          "execution_count": 26
        },
        {
          "output_type": "display_data",
          "data": {
            "text/plain": "<Figure size 1152x576 with 1 Axes>",
            "image/svg+xml": "<?xml version=\"1.0\" encoding=\"utf-8\" standalone=\"no\"?>\r\n<!DOCTYPE svg PUBLIC \"-//W3C//DTD SVG 1.1//EN\"\r\n  \"http://www.w3.org/Graphics/SVG/1.1/DTD/svg11.dtd\">\r\n<!-- Created with matplotlib (https://matplotlib.org/) -->\r\n<svg height=\"498.009375pt\" version=\"1.1\" viewBox=\"0 0 1203.540812 498.009375\" width=\"1203.540812pt\" xmlns=\"http://www.w3.org/2000/svg\" xmlns:xlink=\"http://www.w3.org/1999/xlink\">\r\n <metadata>\r\n  <rdf:RDF xmlns:cc=\"http://creativecommons.org/ns#\" xmlns:dc=\"http://purl.org/dc/elements/1.1/\" xmlns:rdf=\"http://www.w3.org/1999/02/22-rdf-syntax-ns#\">\r\n   <cc:Work>\r\n    <dc:type rdf:resource=\"http://purl.org/dc/dcmitype/StillImage\"/>\r\n    <dc:date>2020-12-27T23:28:59.628900</dc:date>\r\n    <dc:format>image/svg+xml</dc:format>\r\n    <dc:creator>\r\n     <cc:Agent>\r\n      <dc:title>Matplotlib v3.3.1, https://matplotlib.org/</dc:title>\r\n     </cc:Agent>\r\n    </dc:creator>\r\n   </cc:Work>\r\n  </rdf:RDF>\r\n </metadata>\r\n <defs>\r\n  <style type=\"text/css\">*{stroke-linecap:butt;stroke-linejoin:round;}</style>\r\n </defs>\r\n <g id=\"figure_1\">\r\n  <g id=\"patch_1\">\r\n   <path d=\"M 0 498.009375 \r\nL 1203.540812 498.009375 \r\nL 1203.540812 0 \r\nL 0 0 \r\nz\r\n\" style=\"fill:#f0f0f0;\"/>\r\n  </g>\r\n  <g id=\"axes_1\">\r\n   <g id=\"patch_2\">\r\n    <path d=\"M 194.100813 473.76 \r\nL 1196.340812 473.76 \r\nL 1196.340812 7.2 \r\nL 194.100813 7.2 \r\nz\r\n\" style=\"fill:#f0f0f0;\"/>\r\n   </g>\r\n   <g id=\"matplotlib.axis_1\">\r\n    <g id=\"xtick_1\">\r\n     <g id=\"line2d_1\">\r\n      <path clip-path=\"url(#p648c06ea27)\" d=\"M 194.100813 473.76 \r\nL 194.100813 7.2 \r\n\" style=\"fill:none;stroke:#cbcbcb;\"/>\r\n     </g>\r\n     <g id=\"line2d_2\"/>\r\n     <g id=\"text_1\">\r\n      <!-- 0 -->\r\n      <g transform=\"translate(189.647063 487.897812)scale(0.14 -0.14)\">\r\n       <defs>\r\n        <path d=\"M 31.78125 66.40625 \r\nQ 24.171875 66.40625 20.328125 58.90625 \r\nQ 16.5 51.421875 16.5 36.375 \r\nQ 16.5 21.390625 20.328125 13.890625 \r\nQ 24.171875 6.390625 31.78125 6.390625 \r\nQ 39.453125 6.390625 43.28125 13.890625 \r\nQ 47.125 21.390625 47.125 36.375 \r\nQ 47.125 51.421875 43.28125 58.90625 \r\nQ 39.453125 66.40625 31.78125 66.40625 \r\nz\r\nM 31.78125 74.21875 \r\nQ 44.046875 74.21875 50.515625 64.515625 \r\nQ 56.984375 54.828125 56.984375 36.375 \r\nQ 56.984375 17.96875 50.515625 8.265625 \r\nQ 44.046875 -1.421875 31.78125 -1.421875 \r\nQ 19.53125 -1.421875 13.0625 8.265625 \r\nQ 6.59375 17.96875 6.59375 36.375 \r\nQ 6.59375 54.828125 13.0625 64.515625 \r\nQ 19.53125 74.21875 31.78125 74.21875 \r\nz\r\n\" id=\"DejaVuSans-48\"/>\r\n       </defs>\r\n       <use xlink:href=\"#DejaVuSans-48\"/>\r\n      </g>\r\n     </g>\r\n    </g>\r\n    <g id=\"xtick_2\">\r\n     <g id=\"line2d_3\">\r\n      <path clip-path=\"url(#p648c06ea27)\" d=\"M 329.224579 473.76 \r\nL 329.224579 7.2 \r\n\" style=\"fill:none;stroke:#cbcbcb;\"/>\r\n     </g>\r\n     <g id=\"line2d_4\"/>\r\n     <g id=\"text_2\">\r\n      <!-- 250 -->\r\n      <g transform=\"translate(315.863329 487.897812)scale(0.14 -0.14)\">\r\n       <defs>\r\n        <path d=\"M 19.1875 8.296875 \r\nL 53.609375 8.296875 \r\nL 53.609375 0 \r\nL 7.328125 0 \r\nL 7.328125 8.296875 \r\nQ 12.9375 14.109375 22.625 23.890625 \r\nQ 32.328125 33.6875 34.8125 36.53125 \r\nQ 39.546875 41.84375 41.421875 45.53125 \r\nQ 43.3125 49.21875 43.3125 52.78125 \r\nQ 43.3125 58.59375 39.234375 62.25 \r\nQ 35.15625 65.921875 28.609375 65.921875 \r\nQ 23.96875 65.921875 18.8125 64.3125 \r\nQ 13.671875 62.703125 7.8125 59.421875 \r\nL 7.8125 69.390625 \r\nQ 13.765625 71.78125 18.9375 73 \r\nQ 24.125 74.21875 28.421875 74.21875 \r\nQ 39.75 74.21875 46.484375 68.546875 \r\nQ 53.21875 62.890625 53.21875 53.421875 \r\nQ 53.21875 48.921875 51.53125 44.890625 \r\nQ 49.859375 40.875 45.40625 35.40625 \r\nQ 44.1875 33.984375 37.640625 27.21875 \r\nQ 31.109375 20.453125 19.1875 8.296875 \r\nz\r\n\" id=\"DejaVuSans-50\"/>\r\n        <path d=\"M 10.796875 72.90625 \r\nL 49.515625 72.90625 \r\nL 49.515625 64.59375 \r\nL 19.828125 64.59375 \r\nL 19.828125 46.734375 \r\nQ 21.96875 47.46875 24.109375 47.828125 \r\nQ 26.265625 48.1875 28.421875 48.1875 \r\nQ 40.625 48.1875 47.75 41.5 \r\nQ 54.890625 34.8125 54.890625 23.390625 \r\nQ 54.890625 11.625 47.5625 5.09375 \r\nQ 40.234375 -1.421875 26.90625 -1.421875 \r\nQ 22.3125 -1.421875 17.546875 -0.640625 \r\nQ 12.796875 0.140625 7.71875 1.703125 \r\nL 7.71875 11.625 \r\nQ 12.109375 9.234375 16.796875 8.0625 \r\nQ 21.484375 6.890625 26.703125 6.890625 \r\nQ 35.15625 6.890625 40.078125 11.328125 \r\nQ 45.015625 15.765625 45.015625 23.390625 \r\nQ 45.015625 31 40.078125 35.4375 \r\nQ 35.15625 39.890625 26.703125 39.890625 \r\nQ 22.75 39.890625 18.8125 39.015625 \r\nQ 14.890625 38.140625 10.796875 36.28125 \r\nz\r\n\" id=\"DejaVuSans-53\"/>\r\n       </defs>\r\n       <use xlink:href=\"#DejaVuSans-50\"/>\r\n       <use x=\"63.623047\" xlink:href=\"#DejaVuSans-53\"/>\r\n       <use x=\"127.246094\" xlink:href=\"#DejaVuSans-48\"/>\r\n      </g>\r\n     </g>\r\n    </g>\r\n    <g id=\"xtick_3\">\r\n     <g id=\"line2d_5\">\r\n      <path clip-path=\"url(#p648c06ea27)\" d=\"M 464.348345 473.76 \r\nL 464.348345 7.2 \r\n\" style=\"fill:none;stroke:#cbcbcb;\"/>\r\n     </g>\r\n     <g id=\"line2d_6\"/>\r\n     <g id=\"text_3\">\r\n      <!-- 500 -->\r\n      <g transform=\"translate(450.987095 487.897812)scale(0.14 -0.14)\">\r\n       <use xlink:href=\"#DejaVuSans-53\"/>\r\n       <use x=\"63.623047\" xlink:href=\"#DejaVuSans-48\"/>\r\n       <use x=\"127.246094\" xlink:href=\"#DejaVuSans-48\"/>\r\n      </g>\r\n     </g>\r\n    </g>\r\n    <g id=\"xtick_4\">\r\n     <g id=\"line2d_7\">\r\n      <path clip-path=\"url(#p648c06ea27)\" d=\"M 599.472112 473.76 \r\nL 599.472112 7.2 \r\n\" style=\"fill:none;stroke:#cbcbcb;\"/>\r\n     </g>\r\n     <g id=\"line2d_8\"/>\r\n     <g id=\"text_4\">\r\n      <!-- 750 -->\r\n      <g transform=\"translate(586.110862 487.897812)scale(0.14 -0.14)\">\r\n       <defs>\r\n        <path d=\"M 8.203125 72.90625 \r\nL 55.078125 72.90625 \r\nL 55.078125 68.703125 \r\nL 28.609375 0 \r\nL 18.3125 0 \r\nL 43.21875 64.59375 \r\nL 8.203125 64.59375 \r\nz\r\n\" id=\"DejaVuSans-55\"/>\r\n       </defs>\r\n       <use xlink:href=\"#DejaVuSans-55\"/>\r\n       <use x=\"63.623047\" xlink:href=\"#DejaVuSans-53\"/>\r\n       <use x=\"127.246094\" xlink:href=\"#DejaVuSans-48\"/>\r\n      </g>\r\n     </g>\r\n    </g>\r\n    <g id=\"xtick_5\">\r\n     <g id=\"line2d_9\">\r\n      <path clip-path=\"url(#p648c06ea27)\" d=\"M 734.595878 473.76 \r\nL 734.595878 7.2 \r\n\" style=\"fill:none;stroke:#cbcbcb;\"/>\r\n     </g>\r\n     <g id=\"line2d_10\"/>\r\n     <g id=\"text_5\">\r\n      <!-- 1000 -->\r\n      <g transform=\"translate(716.780878 487.897812)scale(0.14 -0.14)\">\r\n       <defs>\r\n        <path d=\"M 12.40625 8.296875 \r\nL 28.515625 8.296875 \r\nL 28.515625 63.921875 \r\nL 10.984375 60.40625 \r\nL 10.984375 69.390625 \r\nL 28.421875 72.90625 \r\nL 38.28125 72.90625 \r\nL 38.28125 8.296875 \r\nL 54.390625 8.296875 \r\nL 54.390625 0 \r\nL 12.40625 0 \r\nz\r\n\" id=\"DejaVuSans-49\"/>\r\n       </defs>\r\n       <use xlink:href=\"#DejaVuSans-49\"/>\r\n       <use x=\"63.623047\" xlink:href=\"#DejaVuSans-48\"/>\r\n       <use x=\"127.246094\" xlink:href=\"#DejaVuSans-48\"/>\r\n       <use x=\"190.869141\" xlink:href=\"#DejaVuSans-48\"/>\r\n      </g>\r\n     </g>\r\n    </g>\r\n    <g id=\"xtick_6\">\r\n     <g id=\"line2d_11\">\r\n      <path clip-path=\"url(#p648c06ea27)\" d=\"M 869.719644 473.76 \r\nL 869.719644 7.2 \r\n\" style=\"fill:none;stroke:#cbcbcb;\"/>\r\n     </g>\r\n     <g id=\"line2d_12\"/>\r\n     <g id=\"text_6\">\r\n      <!-- 1250 -->\r\n      <g transform=\"translate(851.904644 487.897812)scale(0.14 -0.14)\">\r\n       <use xlink:href=\"#DejaVuSans-49\"/>\r\n       <use x=\"63.623047\" xlink:href=\"#DejaVuSans-50\"/>\r\n       <use x=\"127.246094\" xlink:href=\"#DejaVuSans-53\"/>\r\n       <use x=\"190.869141\" xlink:href=\"#DejaVuSans-48\"/>\r\n      </g>\r\n     </g>\r\n    </g>\r\n    <g id=\"xtick_7\">\r\n     <g id=\"line2d_13\">\r\n      <path clip-path=\"url(#p648c06ea27)\" d=\"M 1004.843411 473.76 \r\nL 1004.843411 7.2 \r\n\" style=\"fill:none;stroke:#cbcbcb;\"/>\r\n     </g>\r\n     <g id=\"line2d_14\"/>\r\n     <g id=\"text_7\">\r\n      <!-- 1500 -->\r\n      <g transform=\"translate(987.028411 487.897812)scale(0.14 -0.14)\">\r\n       <use xlink:href=\"#DejaVuSans-49\"/>\r\n       <use x=\"63.623047\" xlink:href=\"#DejaVuSans-53\"/>\r\n       <use x=\"127.246094\" xlink:href=\"#DejaVuSans-48\"/>\r\n       <use x=\"190.869141\" xlink:href=\"#DejaVuSans-48\"/>\r\n      </g>\r\n     </g>\r\n    </g>\r\n    <g id=\"xtick_8\">\r\n     <g id=\"line2d_15\">\r\n      <path clip-path=\"url(#p648c06ea27)\" d=\"M 1139.967177 473.76 \r\nL 1139.967177 7.2 \r\n\" style=\"fill:none;stroke:#cbcbcb;\"/>\r\n     </g>\r\n     <g id=\"line2d_16\"/>\r\n     <g id=\"text_8\">\r\n      <!-- 1750 -->\r\n      <g transform=\"translate(1122.152177 487.897812)scale(0.14 -0.14)\">\r\n       <use xlink:href=\"#DejaVuSans-49\"/>\r\n       <use x=\"63.623047\" xlink:href=\"#DejaVuSans-55\"/>\r\n       <use x=\"127.246094\" xlink:href=\"#DejaVuSans-53\"/>\r\n       <use x=\"190.869141\" xlink:href=\"#DejaVuSans-48\"/>\r\n      </g>\r\n     </g>\r\n    </g>\r\n   </g>\r\n   <g id=\"matplotlib.axis_2\">\r\n    <g id=\"ytick_1\">\r\n     <g id=\"line2d_17\">\r\n      <path clip-path=\"url(#p648c06ea27)\" d=\"M 194.100813 447.84 \r\nL 1196.340812 447.84 \r\n\" style=\"fill:none;stroke:#cbcbcb;\"/>\r\n     </g>\r\n     <g id=\"line2d_18\"/>\r\n     <g id=\"text_9\">\r\n      <!-- rfcv_feature_class0 -->\r\n      <g transform=\"translate(55.734875 453.158906)scale(0.14 -0.14)\">\r\n       <defs>\r\n        <path d=\"M 41.109375 46.296875 \r\nQ 39.59375 47.171875 37.8125 47.578125 \r\nQ 36.03125 48 33.890625 48 \r\nQ 26.265625 48 22.1875 43.046875 \r\nQ 18.109375 38.09375 18.109375 28.8125 \r\nL 18.109375 0 \r\nL 9.078125 0 \r\nL 9.078125 54.6875 \r\nL 18.109375 54.6875 \r\nL 18.109375 46.1875 \r\nQ 20.953125 51.171875 25.484375 53.578125 \r\nQ 30.03125 56 36.53125 56 \r\nQ 37.453125 56 38.578125 55.875 \r\nQ 39.703125 55.765625 41.0625 55.515625 \r\nz\r\n\" id=\"DejaVuSans-114\"/>\r\n        <path d=\"M 37.109375 75.984375 \r\nL 37.109375 68.5 \r\nL 28.515625 68.5 \r\nQ 23.6875 68.5 21.796875 66.546875 \r\nQ 19.921875 64.59375 19.921875 59.515625 \r\nL 19.921875 54.6875 \r\nL 34.71875 54.6875 \r\nL 34.71875 47.703125 \r\nL 19.921875 47.703125 \r\nL 19.921875 0 \r\nL 10.890625 0 \r\nL 10.890625 47.703125 \r\nL 2.296875 47.703125 \r\nL 2.296875 54.6875 \r\nL 10.890625 54.6875 \r\nL 10.890625 58.5 \r\nQ 10.890625 67.625 15.140625 71.796875 \r\nQ 19.390625 75.984375 28.609375 75.984375 \r\nz\r\n\" id=\"DejaVuSans-102\"/>\r\n        <path d=\"M 48.78125 52.59375 \r\nL 48.78125 44.1875 \r\nQ 44.96875 46.296875 41.140625 47.34375 \r\nQ 37.3125 48.390625 33.40625 48.390625 \r\nQ 24.65625 48.390625 19.8125 42.84375 \r\nQ 14.984375 37.3125 14.984375 27.296875 \r\nQ 14.984375 17.28125 19.8125 11.734375 \r\nQ 24.65625 6.203125 33.40625 6.203125 \r\nQ 37.3125 6.203125 41.140625 7.25 \r\nQ 44.96875 8.296875 48.78125 10.40625 \r\nL 48.78125 2.09375 \r\nQ 45.015625 0.34375 40.984375 -0.53125 \r\nQ 36.96875 -1.421875 32.421875 -1.421875 \r\nQ 20.0625 -1.421875 12.78125 6.34375 \r\nQ 5.515625 14.109375 5.515625 27.296875 \r\nQ 5.515625 40.671875 12.859375 48.328125 \r\nQ 20.21875 56 33.015625 56 \r\nQ 37.15625 56 41.109375 55.140625 \r\nQ 45.0625 54.296875 48.78125 52.59375 \r\nz\r\n\" id=\"DejaVuSans-99\"/>\r\n        <path d=\"M 2.984375 54.6875 \r\nL 12.5 54.6875 \r\nL 29.59375 8.796875 \r\nL 46.6875 54.6875 \r\nL 56.203125 54.6875 \r\nL 35.6875 0 \r\nL 23.484375 0 \r\nz\r\n\" id=\"DejaVuSans-118\"/>\r\n        <path d=\"M 50.984375 -16.609375 \r\nL 50.984375 -23.578125 \r\nL -0.984375 -23.578125 \r\nL -0.984375 -16.609375 \r\nz\r\n\" id=\"DejaVuSans-95\"/>\r\n        <path d=\"M 56.203125 29.59375 \r\nL 56.203125 25.203125 \r\nL 14.890625 25.203125 \r\nQ 15.484375 15.921875 20.484375 11.0625 \r\nQ 25.484375 6.203125 34.421875 6.203125 \r\nQ 39.59375 6.203125 44.453125 7.46875 \r\nQ 49.3125 8.734375 54.109375 11.28125 \r\nL 54.109375 2.78125 \r\nQ 49.265625 0.734375 44.1875 -0.34375 \r\nQ 39.109375 -1.421875 33.890625 -1.421875 \r\nQ 20.796875 -1.421875 13.15625 6.1875 \r\nQ 5.515625 13.8125 5.515625 26.8125 \r\nQ 5.515625 40.234375 12.765625 48.109375 \r\nQ 20.015625 56 32.328125 56 \r\nQ 43.359375 56 49.78125 48.890625 \r\nQ 56.203125 41.796875 56.203125 29.59375 \r\nz\r\nM 47.21875 32.234375 \r\nQ 47.125 39.59375 43.09375 43.984375 \r\nQ 39.0625 48.390625 32.421875 48.390625 \r\nQ 24.90625 48.390625 20.390625 44.140625 \r\nQ 15.875 39.890625 15.1875 32.171875 \r\nz\r\n\" id=\"DejaVuSans-101\"/>\r\n        <path d=\"M 34.28125 27.484375 \r\nQ 23.390625 27.484375 19.1875 25 \r\nQ 14.984375 22.515625 14.984375 16.5 \r\nQ 14.984375 11.71875 18.140625 8.90625 \r\nQ 21.296875 6.109375 26.703125 6.109375 \r\nQ 34.1875 6.109375 38.703125 11.40625 \r\nQ 43.21875 16.703125 43.21875 25.484375 \r\nL 43.21875 27.484375 \r\nz\r\nM 52.203125 31.203125 \r\nL 52.203125 0 \r\nL 43.21875 0 \r\nL 43.21875 8.296875 \r\nQ 40.140625 3.328125 35.546875 0.953125 \r\nQ 30.953125 -1.421875 24.3125 -1.421875 \r\nQ 15.921875 -1.421875 10.953125 3.296875 \r\nQ 6 8.015625 6 15.921875 \r\nQ 6 25.140625 12.171875 29.828125 \r\nQ 18.359375 34.515625 30.609375 34.515625 \r\nL 43.21875 34.515625 \r\nL 43.21875 35.40625 \r\nQ 43.21875 41.609375 39.140625 45 \r\nQ 35.0625 48.390625 27.6875 48.390625 \r\nQ 23 48.390625 18.546875 47.265625 \r\nQ 14.109375 46.140625 10.015625 43.890625 \r\nL 10.015625 52.203125 \r\nQ 14.9375 54.109375 19.578125 55.046875 \r\nQ 24.21875 56 28.609375 56 \r\nQ 40.484375 56 46.34375 49.84375 \r\nQ 52.203125 43.703125 52.203125 31.203125 \r\nz\r\n\" id=\"DejaVuSans-97\"/>\r\n        <path d=\"M 18.3125 70.21875 \r\nL 18.3125 54.6875 \r\nL 36.8125 54.6875 \r\nL 36.8125 47.703125 \r\nL 18.3125 47.703125 \r\nL 18.3125 18.015625 \r\nQ 18.3125 11.328125 20.140625 9.421875 \r\nQ 21.96875 7.515625 27.59375 7.515625 \r\nL 36.8125 7.515625 \r\nL 36.8125 0 \r\nL 27.59375 0 \r\nQ 17.1875 0 13.234375 3.875 \r\nQ 9.28125 7.765625 9.28125 18.015625 \r\nL 9.28125 47.703125 \r\nL 2.6875 47.703125 \r\nL 2.6875 54.6875 \r\nL 9.28125 54.6875 \r\nL 9.28125 70.21875 \r\nz\r\n\" id=\"DejaVuSans-116\"/>\r\n        <path d=\"M 8.5 21.578125 \r\nL 8.5 54.6875 \r\nL 17.484375 54.6875 \r\nL 17.484375 21.921875 \r\nQ 17.484375 14.15625 20.5 10.265625 \r\nQ 23.53125 6.390625 29.59375 6.390625 \r\nQ 36.859375 6.390625 41.078125 11.03125 \r\nQ 45.3125 15.671875 45.3125 23.6875 \r\nL 45.3125 54.6875 \r\nL 54.296875 54.6875 \r\nL 54.296875 0 \r\nL 45.3125 0 \r\nL 45.3125 8.40625 \r\nQ 42.046875 3.421875 37.71875 1 \r\nQ 33.40625 -1.421875 27.6875 -1.421875 \r\nQ 18.265625 -1.421875 13.375 4.4375 \r\nQ 8.5 10.296875 8.5 21.578125 \r\nz\r\nM 31.109375 56 \r\nz\r\n\" id=\"DejaVuSans-117\"/>\r\n        <path d=\"M 9.421875 75.984375 \r\nL 18.40625 75.984375 \r\nL 18.40625 0 \r\nL 9.421875 0 \r\nz\r\n\" id=\"DejaVuSans-108\"/>\r\n        <path d=\"M 44.28125 53.078125 \r\nL 44.28125 44.578125 \r\nQ 40.484375 46.53125 36.375 47.5 \r\nQ 32.28125 48.484375 27.875 48.484375 \r\nQ 21.1875 48.484375 17.84375 46.4375 \r\nQ 14.5 44.390625 14.5 40.28125 \r\nQ 14.5 37.15625 16.890625 35.375 \r\nQ 19.28125 33.59375 26.515625 31.984375 \r\nL 29.59375 31.296875 \r\nQ 39.15625 29.25 43.1875 25.515625 \r\nQ 47.21875 21.78125 47.21875 15.09375 \r\nQ 47.21875 7.46875 41.1875 3.015625 \r\nQ 35.15625 -1.421875 24.609375 -1.421875 \r\nQ 20.21875 -1.421875 15.453125 -0.5625 \r\nQ 10.6875 0.296875 5.421875 2 \r\nL 5.421875 11.28125 \r\nQ 10.40625 8.6875 15.234375 7.390625 \r\nQ 20.0625 6.109375 24.8125 6.109375 \r\nQ 31.15625 6.109375 34.5625 8.28125 \r\nQ 37.984375 10.453125 37.984375 14.40625 \r\nQ 37.984375 18.0625 35.515625 20.015625 \r\nQ 33.0625 21.96875 24.703125 23.78125 \r\nL 21.578125 24.515625 \r\nQ 13.234375 26.265625 9.515625 29.90625 \r\nQ 5.8125 33.546875 5.8125 39.890625 \r\nQ 5.8125 47.609375 11.28125 51.796875 \r\nQ 16.75 56 26.8125 56 \r\nQ 31.78125 56 36.171875 55.265625 \r\nQ 40.578125 54.546875 44.28125 53.078125 \r\nz\r\n\" id=\"DejaVuSans-115\"/>\r\n       </defs>\r\n       <use xlink:href=\"#DejaVuSans-114\"/>\r\n       <use x=\"41.113281\" xlink:href=\"#DejaVuSans-102\"/>\r\n       <use x=\"76.318359\" xlink:href=\"#DejaVuSans-99\"/>\r\n       <use x=\"131.298828\" xlink:href=\"#DejaVuSans-118\"/>\r\n       <use x=\"190.478516\" xlink:href=\"#DejaVuSans-95\"/>\r\n       <use x=\"240.478516\" xlink:href=\"#DejaVuSans-102\"/>\r\n       <use x=\"275.683594\" xlink:href=\"#DejaVuSans-101\"/>\r\n       <use x=\"337.207031\" xlink:href=\"#DejaVuSans-97\"/>\r\n       <use x=\"398.486328\" xlink:href=\"#DejaVuSans-116\"/>\r\n       <use x=\"437.695312\" xlink:href=\"#DejaVuSans-117\"/>\r\n       <use x=\"501.074219\" xlink:href=\"#DejaVuSans-114\"/>\r\n       <use x=\"539.9375\" xlink:href=\"#DejaVuSans-101\"/>\r\n       <use x=\"601.460938\" xlink:href=\"#DejaVuSans-95\"/>\r\n       <use x=\"651.460938\" xlink:href=\"#DejaVuSans-99\"/>\r\n       <use x=\"706.441406\" xlink:href=\"#DejaVuSans-108\"/>\r\n       <use x=\"734.224609\" xlink:href=\"#DejaVuSans-97\"/>\r\n       <use x=\"795.503906\" xlink:href=\"#DejaVuSans-115\"/>\r\n       <use x=\"847.603516\" xlink:href=\"#DejaVuSans-115\"/>\r\n       <use x=\"899.703125\" xlink:href=\"#DejaVuSans-48\"/>\r\n      </g>\r\n     </g>\r\n    </g>\r\n    <g id=\"ytick_2\">\r\n     <g id=\"line2d_19\">\r\n      <path clip-path=\"url(#p648c06ea27)\" d=\"M 194.100813 396 \r\nL 1196.340812 396 \r\n\" style=\"fill:none;stroke:#cbcbcb;\"/>\r\n     </g>\r\n     <g id=\"line2d_20\"/>\r\n     <g id=\"text_10\">\r\n      <!-- lgbcv_feature_class0 -->\r\n      <g transform=\"translate(44.753625 401.318906)scale(0.14 -0.14)\">\r\n       <defs>\r\n        <path d=\"M 45.40625 27.984375 \r\nQ 45.40625 37.75 41.375 43.109375 \r\nQ 37.359375 48.484375 30.078125 48.484375 \r\nQ 22.859375 48.484375 18.828125 43.109375 \r\nQ 14.796875 37.75 14.796875 27.984375 \r\nQ 14.796875 18.265625 18.828125 12.890625 \r\nQ 22.859375 7.515625 30.078125 7.515625 \r\nQ 37.359375 7.515625 41.375 12.890625 \r\nQ 45.40625 18.265625 45.40625 27.984375 \r\nz\r\nM 54.390625 6.78125 \r\nQ 54.390625 -7.171875 48.1875 -13.984375 \r\nQ 42 -20.796875 29.203125 -20.796875 \r\nQ 24.46875 -20.796875 20.265625 -20.09375 \r\nQ 16.0625 -19.390625 12.109375 -17.921875 \r\nL 12.109375 -9.1875 \r\nQ 16.0625 -11.328125 19.921875 -12.34375 \r\nQ 23.78125 -13.375 27.78125 -13.375 \r\nQ 36.625 -13.375 41.015625 -8.765625 \r\nQ 45.40625 -4.15625 45.40625 5.171875 \r\nL 45.40625 9.625 \r\nQ 42.625 4.78125 38.28125 2.390625 \r\nQ 33.9375 0 27.875 0 \r\nQ 17.828125 0 11.671875 7.65625 \r\nQ 5.515625 15.328125 5.515625 27.984375 \r\nQ 5.515625 40.671875 11.671875 48.328125 \r\nQ 17.828125 56 27.875 56 \r\nQ 33.9375 56 38.28125 53.609375 \r\nQ 42.625 51.21875 45.40625 46.390625 \r\nL 45.40625 54.6875 \r\nL 54.390625 54.6875 \r\nz\r\n\" id=\"DejaVuSans-103\"/>\r\n        <path d=\"M 48.6875 27.296875 \r\nQ 48.6875 37.203125 44.609375 42.84375 \r\nQ 40.53125 48.484375 33.40625 48.484375 \r\nQ 26.265625 48.484375 22.1875 42.84375 \r\nQ 18.109375 37.203125 18.109375 27.296875 \r\nQ 18.109375 17.390625 22.1875 11.75 \r\nQ 26.265625 6.109375 33.40625 6.109375 \r\nQ 40.53125 6.109375 44.609375 11.75 \r\nQ 48.6875 17.390625 48.6875 27.296875 \r\nz\r\nM 18.109375 46.390625 \r\nQ 20.953125 51.265625 25.265625 53.625 \r\nQ 29.59375 56 35.59375 56 \r\nQ 45.5625 56 51.78125 48.09375 \r\nQ 58.015625 40.1875 58.015625 27.296875 \r\nQ 58.015625 14.40625 51.78125 6.484375 \r\nQ 45.5625 -1.421875 35.59375 -1.421875 \r\nQ 29.59375 -1.421875 25.265625 0.953125 \r\nQ 20.953125 3.328125 18.109375 8.203125 \r\nL 18.109375 0 \r\nL 9.078125 0 \r\nL 9.078125 75.984375 \r\nL 18.109375 75.984375 \r\nz\r\n\" id=\"DejaVuSans-98\"/>\r\n       </defs>\r\n       <use xlink:href=\"#DejaVuSans-108\"/>\r\n       <use x=\"27.783203\" xlink:href=\"#DejaVuSans-103\"/>\r\n       <use x=\"91.259766\" xlink:href=\"#DejaVuSans-98\"/>\r\n       <use x=\"154.736328\" xlink:href=\"#DejaVuSans-99\"/>\r\n       <use x=\"209.716797\" xlink:href=\"#DejaVuSans-118\"/>\r\n       <use x=\"268.896484\" xlink:href=\"#DejaVuSans-95\"/>\r\n       <use x=\"318.896484\" xlink:href=\"#DejaVuSans-102\"/>\r\n       <use x=\"354.101562\" xlink:href=\"#DejaVuSans-101\"/>\r\n       <use x=\"415.625\" xlink:href=\"#DejaVuSans-97\"/>\r\n       <use x=\"476.904297\" xlink:href=\"#DejaVuSans-116\"/>\r\n       <use x=\"516.113281\" xlink:href=\"#DejaVuSans-117\"/>\r\n       <use x=\"579.492188\" xlink:href=\"#DejaVuSans-114\"/>\r\n       <use x=\"618.355469\" xlink:href=\"#DejaVuSans-101\"/>\r\n       <use x=\"679.878906\" xlink:href=\"#DejaVuSans-95\"/>\r\n       <use x=\"729.878906\" xlink:href=\"#DejaVuSans-99\"/>\r\n       <use x=\"784.859375\" xlink:href=\"#DejaVuSans-108\"/>\r\n       <use x=\"812.642578\" xlink:href=\"#DejaVuSans-97\"/>\r\n       <use x=\"873.921875\" xlink:href=\"#DejaVuSans-115\"/>\r\n       <use x=\"926.021484\" xlink:href=\"#DejaVuSans-115\"/>\r\n       <use x=\"978.121094\" xlink:href=\"#DejaVuSans-48\"/>\r\n      </g>\r\n     </g>\r\n    </g>\r\n    <g id=\"ytick_3\">\r\n     <g id=\"line2d_21\">\r\n      <path clip-path=\"url(#p648c06ea27)\" d=\"M 194.100813 344.16 \r\nL 1196.340812 344.16 \r\n\" style=\"fill:none;stroke:#cbcbcb;\"/>\r\n     </g>\r\n     <g id=\"line2d_22\"/>\r\n     <g id=\"text_11\">\r\n      <!-- rfcv_feature_class2 -->\r\n      <g transform=\"translate(55.734875 349.478906)scale(0.14 -0.14)\">\r\n       <use xlink:href=\"#DejaVuSans-114\"/>\r\n       <use x=\"41.113281\" xlink:href=\"#DejaVuSans-102\"/>\r\n       <use x=\"76.318359\" xlink:href=\"#DejaVuSans-99\"/>\r\n       <use x=\"131.298828\" xlink:href=\"#DejaVuSans-118\"/>\r\n       <use x=\"190.478516\" xlink:href=\"#DejaVuSans-95\"/>\r\n       <use x=\"240.478516\" xlink:href=\"#DejaVuSans-102\"/>\r\n       <use x=\"275.683594\" xlink:href=\"#DejaVuSans-101\"/>\r\n       <use x=\"337.207031\" xlink:href=\"#DejaVuSans-97\"/>\r\n       <use x=\"398.486328\" xlink:href=\"#DejaVuSans-116\"/>\r\n       <use x=\"437.695312\" xlink:href=\"#DejaVuSans-117\"/>\r\n       <use x=\"501.074219\" xlink:href=\"#DejaVuSans-114\"/>\r\n       <use x=\"539.9375\" xlink:href=\"#DejaVuSans-101\"/>\r\n       <use x=\"601.460938\" xlink:href=\"#DejaVuSans-95\"/>\r\n       <use x=\"651.460938\" xlink:href=\"#DejaVuSans-99\"/>\r\n       <use x=\"706.441406\" xlink:href=\"#DejaVuSans-108\"/>\r\n       <use x=\"734.224609\" xlink:href=\"#DejaVuSans-97\"/>\r\n       <use x=\"795.503906\" xlink:href=\"#DejaVuSans-115\"/>\r\n       <use x=\"847.603516\" xlink:href=\"#DejaVuSans-115\"/>\r\n       <use x=\"899.703125\" xlink:href=\"#DejaVuSans-50\"/>\r\n      </g>\r\n     </g>\r\n    </g>\r\n    <g id=\"ytick_4\">\r\n     <g id=\"line2d_23\">\r\n      <path clip-path=\"url(#p648c06ea27)\" d=\"M 194.100813 292.32 \r\nL 1196.340812 292.32 \r\n\" style=\"fill:none;stroke:#cbcbcb;\"/>\r\n     </g>\r\n     <g id=\"line2d_24\"/>\r\n     <g id=\"text_12\">\r\n      <!-- lgbcv_feature_class2 -->\r\n      <g transform=\"translate(44.753625 297.638906)scale(0.14 -0.14)\">\r\n       <use xlink:href=\"#DejaVuSans-108\"/>\r\n       <use x=\"27.783203\" xlink:href=\"#DejaVuSans-103\"/>\r\n       <use x=\"91.259766\" xlink:href=\"#DejaVuSans-98\"/>\r\n       <use x=\"154.736328\" xlink:href=\"#DejaVuSans-99\"/>\r\n       <use x=\"209.716797\" xlink:href=\"#DejaVuSans-118\"/>\r\n       <use x=\"268.896484\" xlink:href=\"#DejaVuSans-95\"/>\r\n       <use x=\"318.896484\" xlink:href=\"#DejaVuSans-102\"/>\r\n       <use x=\"354.101562\" xlink:href=\"#DejaVuSans-101\"/>\r\n       <use x=\"415.625\" xlink:href=\"#DejaVuSans-97\"/>\r\n       <use x=\"476.904297\" xlink:href=\"#DejaVuSans-116\"/>\r\n       <use x=\"516.113281\" xlink:href=\"#DejaVuSans-117\"/>\r\n       <use x=\"579.492188\" xlink:href=\"#DejaVuSans-114\"/>\r\n       <use x=\"618.355469\" xlink:href=\"#DejaVuSans-101\"/>\r\n       <use x=\"679.878906\" xlink:href=\"#DejaVuSans-95\"/>\r\n       <use x=\"729.878906\" xlink:href=\"#DejaVuSans-99\"/>\r\n       <use x=\"784.859375\" xlink:href=\"#DejaVuSans-108\"/>\r\n       <use x=\"812.642578\" xlink:href=\"#DejaVuSans-97\"/>\r\n       <use x=\"873.921875\" xlink:href=\"#DejaVuSans-115\"/>\r\n       <use x=\"926.021484\" xlink:href=\"#DejaVuSans-115\"/>\r\n       <use x=\"978.121094\" xlink:href=\"#DejaVuSans-50\"/>\r\n      </g>\r\n     </g>\r\n    </g>\r\n    <g id=\"ytick_5\">\r\n     <g id=\"line2d_25\">\r\n      <path clip-path=\"url(#p648c06ea27)\" d=\"M 194.100813 240.48 \r\nL 1196.340812 240.48 \r\n\" style=\"fill:none;stroke:#cbcbcb;\"/>\r\n     </g>\r\n     <g id=\"line2d_26\"/>\r\n     <g id=\"text_13\">\r\n      <!-- rfcv_feature_class1 -->\r\n      <g transform=\"translate(55.734875 245.798906)scale(0.14 -0.14)\">\r\n       <use xlink:href=\"#DejaVuSans-114\"/>\r\n       <use x=\"41.113281\" xlink:href=\"#DejaVuSans-102\"/>\r\n       <use x=\"76.318359\" xlink:href=\"#DejaVuSans-99\"/>\r\n       <use x=\"131.298828\" xlink:href=\"#DejaVuSans-118\"/>\r\n       <use x=\"190.478516\" xlink:href=\"#DejaVuSans-95\"/>\r\n       <use x=\"240.478516\" xlink:href=\"#DejaVuSans-102\"/>\r\n       <use x=\"275.683594\" xlink:href=\"#DejaVuSans-101\"/>\r\n       <use x=\"337.207031\" xlink:href=\"#DejaVuSans-97\"/>\r\n       <use x=\"398.486328\" xlink:href=\"#DejaVuSans-116\"/>\r\n       <use x=\"437.695312\" xlink:href=\"#DejaVuSans-117\"/>\r\n       <use x=\"501.074219\" xlink:href=\"#DejaVuSans-114\"/>\r\n       <use x=\"539.9375\" xlink:href=\"#DejaVuSans-101\"/>\r\n       <use x=\"601.460938\" xlink:href=\"#DejaVuSans-95\"/>\r\n       <use x=\"651.460938\" xlink:href=\"#DejaVuSans-99\"/>\r\n       <use x=\"706.441406\" xlink:href=\"#DejaVuSans-108\"/>\r\n       <use x=\"734.224609\" xlink:href=\"#DejaVuSans-97\"/>\r\n       <use x=\"795.503906\" xlink:href=\"#DejaVuSans-115\"/>\r\n       <use x=\"847.603516\" xlink:href=\"#DejaVuSans-115\"/>\r\n       <use x=\"899.703125\" xlink:href=\"#DejaVuSans-49\"/>\r\n      </g>\r\n     </g>\r\n    </g>\r\n    <g id=\"ytick_6\">\r\n     <g id=\"line2d_27\">\r\n      <path clip-path=\"url(#p648c06ea27)\" d=\"M 194.100813 188.64 \r\nL 1196.340812 188.64 \r\n\" style=\"fill:none;stroke:#cbcbcb;\"/>\r\n     </g>\r\n     <g id=\"line2d_28\"/>\r\n     <g id=\"text_14\">\r\n      <!-- lrcv_polyfeature_class2 -->\r\n      <g transform=\"translate(27.45925 193.958906)scale(0.14 -0.14)\">\r\n       <defs>\r\n        <path d=\"M 18.109375 8.203125 \r\nL 18.109375 -20.796875 \r\nL 9.078125 -20.796875 \r\nL 9.078125 54.6875 \r\nL 18.109375 54.6875 \r\nL 18.109375 46.390625 \r\nQ 20.953125 51.265625 25.265625 53.625 \r\nQ 29.59375 56 35.59375 56 \r\nQ 45.5625 56 51.78125 48.09375 \r\nQ 58.015625 40.1875 58.015625 27.296875 \r\nQ 58.015625 14.40625 51.78125 6.484375 \r\nQ 45.5625 -1.421875 35.59375 -1.421875 \r\nQ 29.59375 -1.421875 25.265625 0.953125 \r\nQ 20.953125 3.328125 18.109375 8.203125 \r\nz\r\nM 48.6875 27.296875 \r\nQ 48.6875 37.203125 44.609375 42.84375 \r\nQ 40.53125 48.484375 33.40625 48.484375 \r\nQ 26.265625 48.484375 22.1875 42.84375 \r\nQ 18.109375 37.203125 18.109375 27.296875 \r\nQ 18.109375 17.390625 22.1875 11.75 \r\nQ 26.265625 6.109375 33.40625 6.109375 \r\nQ 40.53125 6.109375 44.609375 11.75 \r\nQ 48.6875 17.390625 48.6875 27.296875 \r\nz\r\n\" id=\"DejaVuSans-112\"/>\r\n        <path d=\"M 30.609375 48.390625 \r\nQ 23.390625 48.390625 19.1875 42.75 \r\nQ 14.984375 37.109375 14.984375 27.296875 \r\nQ 14.984375 17.484375 19.15625 11.84375 \r\nQ 23.34375 6.203125 30.609375 6.203125 \r\nQ 37.796875 6.203125 41.984375 11.859375 \r\nQ 46.1875 17.53125 46.1875 27.296875 \r\nQ 46.1875 37.015625 41.984375 42.703125 \r\nQ 37.796875 48.390625 30.609375 48.390625 \r\nz\r\nM 30.609375 56 \r\nQ 42.328125 56 49.015625 48.375 \r\nQ 55.71875 40.765625 55.71875 27.296875 \r\nQ 55.71875 13.875 49.015625 6.21875 \r\nQ 42.328125 -1.421875 30.609375 -1.421875 \r\nQ 18.84375 -1.421875 12.171875 6.21875 \r\nQ 5.515625 13.875 5.515625 27.296875 \r\nQ 5.515625 40.765625 12.171875 48.375 \r\nQ 18.84375 56 30.609375 56 \r\nz\r\n\" id=\"DejaVuSans-111\"/>\r\n        <path d=\"M 32.171875 -5.078125 \r\nQ 28.375 -14.84375 24.75 -17.8125 \r\nQ 21.140625 -20.796875 15.09375 -20.796875 \r\nL 7.90625 -20.796875 \r\nL 7.90625 -13.28125 \r\nL 13.1875 -13.28125 \r\nQ 16.890625 -13.28125 18.9375 -11.515625 \r\nQ 21 -9.765625 23.484375 -3.21875 \r\nL 25.09375 0.875 \r\nL 2.984375 54.6875 \r\nL 12.5 54.6875 \r\nL 29.59375 11.921875 \r\nL 46.6875 54.6875 \r\nL 56.203125 54.6875 \r\nz\r\n\" id=\"DejaVuSans-121\"/>\r\n       </defs>\r\n       <use xlink:href=\"#DejaVuSans-108\"/>\r\n       <use x=\"27.783203\" xlink:href=\"#DejaVuSans-114\"/>\r\n       <use x=\"66.646484\" xlink:href=\"#DejaVuSans-99\"/>\r\n       <use x=\"121.626953\" xlink:href=\"#DejaVuSans-118\"/>\r\n       <use x=\"180.806641\" xlink:href=\"#DejaVuSans-95\"/>\r\n       <use x=\"230.806641\" xlink:href=\"#DejaVuSans-112\"/>\r\n       <use x=\"294.283203\" xlink:href=\"#DejaVuSans-111\"/>\r\n       <use x=\"355.464844\" xlink:href=\"#DejaVuSans-108\"/>\r\n       <use x=\"383.248047\" xlink:href=\"#DejaVuSans-121\"/>\r\n       <use x=\"442.427734\" xlink:href=\"#DejaVuSans-102\"/>\r\n       <use x=\"477.632812\" xlink:href=\"#DejaVuSans-101\"/>\r\n       <use x=\"539.15625\" xlink:href=\"#DejaVuSans-97\"/>\r\n       <use x=\"600.435547\" xlink:href=\"#DejaVuSans-116\"/>\r\n       <use x=\"639.644531\" xlink:href=\"#DejaVuSans-117\"/>\r\n       <use x=\"703.023438\" xlink:href=\"#DejaVuSans-114\"/>\r\n       <use x=\"741.886719\" xlink:href=\"#DejaVuSans-101\"/>\r\n       <use x=\"803.410156\" xlink:href=\"#DejaVuSans-95\"/>\r\n       <use x=\"853.410156\" xlink:href=\"#DejaVuSans-99\"/>\r\n       <use x=\"908.390625\" xlink:href=\"#DejaVuSans-108\"/>\r\n       <use x=\"936.173828\" xlink:href=\"#DejaVuSans-97\"/>\r\n       <use x=\"997.453125\" xlink:href=\"#DejaVuSans-115\"/>\r\n       <use x=\"1049.552734\" xlink:href=\"#DejaVuSans-115\"/>\r\n       <use x=\"1101.652344\" xlink:href=\"#DejaVuSans-50\"/>\r\n      </g>\r\n     </g>\r\n    </g>\r\n    <g id=\"ytick_7\">\r\n     <g id=\"line2d_29\">\r\n      <path clip-path=\"url(#p648c06ea27)\" d=\"M 194.100813 136.8 \r\nL 1196.340812 136.8 \r\n\" style=\"fill:none;stroke:#cbcbcb;\"/>\r\n     </g>\r\n     <g id=\"line2d_30\"/>\r\n     <g id=\"text_15\">\r\n      <!-- lrcv_polyfeature_class0 -->\r\n      <g transform=\"translate(27.45925 142.118906)scale(0.14 -0.14)\">\r\n       <use xlink:href=\"#DejaVuSans-108\"/>\r\n       <use x=\"27.783203\" xlink:href=\"#DejaVuSans-114\"/>\r\n       <use x=\"66.646484\" xlink:href=\"#DejaVuSans-99\"/>\r\n       <use x=\"121.626953\" xlink:href=\"#DejaVuSans-118\"/>\r\n       <use x=\"180.806641\" xlink:href=\"#DejaVuSans-95\"/>\r\n       <use x=\"230.806641\" xlink:href=\"#DejaVuSans-112\"/>\r\n       <use x=\"294.283203\" xlink:href=\"#DejaVuSans-111\"/>\r\n       <use x=\"355.464844\" xlink:href=\"#DejaVuSans-108\"/>\r\n       <use x=\"383.248047\" xlink:href=\"#DejaVuSans-121\"/>\r\n       <use x=\"442.427734\" xlink:href=\"#DejaVuSans-102\"/>\r\n       <use x=\"477.632812\" xlink:href=\"#DejaVuSans-101\"/>\r\n       <use x=\"539.15625\" xlink:href=\"#DejaVuSans-97\"/>\r\n       <use x=\"600.435547\" xlink:href=\"#DejaVuSans-116\"/>\r\n       <use x=\"639.644531\" xlink:href=\"#DejaVuSans-117\"/>\r\n       <use x=\"703.023438\" xlink:href=\"#DejaVuSans-114\"/>\r\n       <use x=\"741.886719\" xlink:href=\"#DejaVuSans-101\"/>\r\n       <use x=\"803.410156\" xlink:href=\"#DejaVuSans-95\"/>\r\n       <use x=\"853.410156\" xlink:href=\"#DejaVuSans-99\"/>\r\n       <use x=\"908.390625\" xlink:href=\"#DejaVuSans-108\"/>\r\n       <use x=\"936.173828\" xlink:href=\"#DejaVuSans-97\"/>\r\n       <use x=\"997.453125\" xlink:href=\"#DejaVuSans-115\"/>\r\n       <use x=\"1049.552734\" xlink:href=\"#DejaVuSans-115\"/>\r\n       <use x=\"1101.652344\" xlink:href=\"#DejaVuSans-48\"/>\r\n      </g>\r\n     </g>\r\n    </g>\r\n    <g id=\"ytick_8\">\r\n     <g id=\"line2d_31\">\r\n      <path clip-path=\"url(#p648c06ea27)\" d=\"M 194.100813 84.96 \r\nL 1196.340812 84.96 \r\n\" style=\"fill:none;stroke:#cbcbcb;\"/>\r\n     </g>\r\n     <g id=\"line2d_32\"/>\r\n     <g id=\"text_16\">\r\n      <!-- lgbcv_feature_class1 -->\r\n      <g transform=\"translate(44.753625 90.278906)scale(0.14 -0.14)\">\r\n       <use xlink:href=\"#DejaVuSans-108\"/>\r\n       <use x=\"27.783203\" xlink:href=\"#DejaVuSans-103\"/>\r\n       <use x=\"91.259766\" xlink:href=\"#DejaVuSans-98\"/>\r\n       <use x=\"154.736328\" xlink:href=\"#DejaVuSans-99\"/>\r\n       <use x=\"209.716797\" xlink:href=\"#DejaVuSans-118\"/>\r\n       <use x=\"268.896484\" xlink:href=\"#DejaVuSans-95\"/>\r\n       <use x=\"318.896484\" xlink:href=\"#DejaVuSans-102\"/>\r\n       <use x=\"354.101562\" xlink:href=\"#DejaVuSans-101\"/>\r\n       <use x=\"415.625\" xlink:href=\"#DejaVuSans-97\"/>\r\n       <use x=\"476.904297\" xlink:href=\"#DejaVuSans-116\"/>\r\n       <use x=\"516.113281\" xlink:href=\"#DejaVuSans-117\"/>\r\n       <use x=\"579.492188\" xlink:href=\"#DejaVuSans-114\"/>\r\n       <use x=\"618.355469\" xlink:href=\"#DejaVuSans-101\"/>\r\n       <use x=\"679.878906\" xlink:href=\"#DejaVuSans-95\"/>\r\n       <use x=\"729.878906\" xlink:href=\"#DejaVuSans-99\"/>\r\n       <use x=\"784.859375\" xlink:href=\"#DejaVuSans-108\"/>\r\n       <use x=\"812.642578\" xlink:href=\"#DejaVuSans-97\"/>\r\n       <use x=\"873.921875\" xlink:href=\"#DejaVuSans-115\"/>\r\n       <use x=\"926.021484\" xlink:href=\"#DejaVuSans-115\"/>\r\n       <use x=\"978.121094\" xlink:href=\"#DejaVuSans-49\"/>\r\n      </g>\r\n     </g>\r\n    </g>\r\n    <g id=\"ytick_9\">\r\n     <g id=\"line2d_33\">\r\n      <path clip-path=\"url(#p648c06ea27)\" d=\"M 194.100813 33.12 \r\nL 1196.340812 33.12 \r\n\" style=\"fill:none;stroke:#cbcbcb;\"/>\r\n     </g>\r\n     <g id=\"line2d_34\"/>\r\n     <g id=\"text_17\">\r\n      <!-- lrcv_polyfeature_class1 -->\r\n      <g transform=\"translate(27.45925 38.438906)scale(0.14 -0.14)\">\r\n       <use xlink:href=\"#DejaVuSans-108\"/>\r\n       <use x=\"27.783203\" xlink:href=\"#DejaVuSans-114\"/>\r\n       <use x=\"66.646484\" xlink:href=\"#DejaVuSans-99\"/>\r\n       <use x=\"121.626953\" xlink:href=\"#DejaVuSans-118\"/>\r\n       <use x=\"180.806641\" xlink:href=\"#DejaVuSans-95\"/>\r\n       <use x=\"230.806641\" xlink:href=\"#DejaVuSans-112\"/>\r\n       <use x=\"294.283203\" xlink:href=\"#DejaVuSans-111\"/>\r\n       <use x=\"355.464844\" xlink:href=\"#DejaVuSans-108\"/>\r\n       <use x=\"383.248047\" xlink:href=\"#DejaVuSans-121\"/>\r\n       <use x=\"442.427734\" xlink:href=\"#DejaVuSans-102\"/>\r\n       <use x=\"477.632812\" xlink:href=\"#DejaVuSans-101\"/>\r\n       <use x=\"539.15625\" xlink:href=\"#DejaVuSans-97\"/>\r\n       <use x=\"600.435547\" xlink:href=\"#DejaVuSans-116\"/>\r\n       <use x=\"639.644531\" xlink:href=\"#DejaVuSans-117\"/>\r\n       <use x=\"703.023438\" xlink:href=\"#DejaVuSans-114\"/>\r\n       <use x=\"741.886719\" xlink:href=\"#DejaVuSans-101\"/>\r\n       <use x=\"803.410156\" xlink:href=\"#DejaVuSans-95\"/>\r\n       <use x=\"853.410156\" xlink:href=\"#DejaVuSans-99\"/>\r\n       <use x=\"908.390625\" xlink:href=\"#DejaVuSans-108\"/>\r\n       <use x=\"936.173828\" xlink:href=\"#DejaVuSans-97\"/>\r\n       <use x=\"997.453125\" xlink:href=\"#DejaVuSans-115\"/>\r\n       <use x=\"1049.552734\" xlink:href=\"#DejaVuSans-115\"/>\r\n       <use x=\"1101.652344\" xlink:href=\"#DejaVuSans-49\"/>\r\n      </g>\r\n     </g>\r\n    </g>\r\n    <g id=\"text_18\">\r\n     <!-- feature -->\r\n     <g transform=\"translate(19.965375 270.802687)rotate(-90)scale(0.168 -0.168)\">\r\n      <use xlink:href=\"#DejaVuSans-102\"/>\r\n      <use x=\"35.205078\" xlink:href=\"#DejaVuSans-101\"/>\r\n      <use x=\"96.728516\" xlink:href=\"#DejaVuSans-97\"/>\r\n      <use x=\"158.007812\" xlink:href=\"#DejaVuSans-116\"/>\r\n      <use x=\"197.216797\" xlink:href=\"#DejaVuSans-117\"/>\r\n      <use x=\"260.595703\" xlink:href=\"#DejaVuSans-114\"/>\r\n      <use x=\"299.458984\" xlink:href=\"#DejaVuSans-101\"/>\r\n     </g>\r\n    </g>\r\n   </g>\r\n   <g id=\"patch_3\">\r\n    <path clip-path=\"url(#p648c06ea27)\" d=\"M 194.100813 460.8 \r\nL 852.423802 460.8 \r\nL 852.423802 434.88 \r\nL 194.100813 434.88 \r\nz\r\n\" style=\"fill:#008fd5;\"/>\r\n   </g>\r\n   <g id=\"patch_4\">\r\n    <path clip-path=\"url(#p648c06ea27)\" d=\"M 194.100813 408.96 \r\nL 950.793904 408.96 \r\nL 950.793904 383.04 \r\nL 194.100813 383.04 \r\nz\r\n\" style=\"fill:#008fd5;\"/>\r\n   </g>\r\n   <g id=\"patch_5\">\r\n    <path clip-path=\"url(#p648c06ea27)\" d=\"M 194.100813 357.12 \r\nL 957.279845 357.12 \r\nL 957.279845 331.2 \r\nL 194.100813 331.2 \r\nz\r\n\" style=\"fill:#008fd5;\"/>\r\n   </g>\r\n   <g id=\"patch_6\">\r\n    <path clip-path=\"url(#p648c06ea27)\" d=\"M 194.100813 305.28 \r\nL 1004.302916 305.28 \r\nL 1004.302916 279.36 \r\nL 194.100813 279.36 \r\nz\r\n\" style=\"fill:#008fd5;\"/>\r\n   </g>\r\n   <g id=\"patch_7\">\r\n    <path clip-path=\"url(#p648c06ea27)\" d=\"M 194.100813 253.44 \r\nL 1045.921036 253.44 \r\nL 1045.921036 227.52 \r\nL 194.100813 227.52 \r\nz\r\n\" style=\"fill:#008fd5;\"/>\r\n   </g>\r\n   <g id=\"patch_8\">\r\n    <path clip-path=\"url(#p648c06ea27)\" d=\"M 194.100813 201.6 \r\nL 1050.244996 201.6 \r\nL 1050.244996 175.68 \r\nL 194.100813 175.68 \r\nz\r\n\" style=\"fill:#008fd5;\"/>\r\n   </g>\r\n   <g id=\"patch_9\">\r\n    <path clip-path=\"url(#p648c06ea27)\" d=\"M 194.100813 149.76 \r\nL 1082.6747 149.76 \r\nL 1082.6747 123.84 \r\nL 194.100813 123.84 \r\nz\r\n\" style=\"fill:#008fd5;\"/>\r\n   </g>\r\n   <g id=\"patch_10\">\r\n    <path clip-path=\"url(#p648c06ea27)\" d=\"M 194.100813 97.92 \r\nL 1111.861434 97.92 \r\nL 1111.861434 72 \r\nL 194.100813 72 \r\nz\r\n\" style=\"fill:#008fd5;\"/>\r\n   </g>\r\n   <g id=\"patch_11\">\r\n    <path clip-path=\"url(#p648c06ea27)\" d=\"M 194.100813 46.08 \r\nL 1148.615098 46.08 \r\nL 1148.615098 20.16 \r\nL 194.100813 20.16 \r\nz\r\n\" style=\"fill:#008fd5;\"/>\r\n   </g>\r\n   <g id=\"patch_12\">\r\n    <path d=\"M 194.100813 473.76 \r\nL 194.100813 7.2 \r\n\" style=\"fill:none;stroke:#f0f0f0;stroke-linecap:square;stroke-linejoin:miter;stroke-width:3;\"/>\r\n   </g>\r\n   <g id=\"patch_13\">\r\n    <path d=\"M 1196.340812 473.76 \r\nL 1196.340812 7.2 \r\n\" style=\"fill:none;stroke:#f0f0f0;stroke-linecap:square;stroke-linejoin:miter;stroke-width:3;\"/>\r\n   </g>\r\n   <g id=\"patch_14\">\r\n    <path d=\"M 194.100813 473.76 \r\nL 1196.340812 473.76 \r\n\" style=\"fill:none;stroke:#f0f0f0;stroke-linecap:square;stroke-linejoin:miter;stroke-width:3;\"/>\r\n   </g>\r\n   <g id=\"patch_15\">\r\n    <path d=\"M 194.100813 7.2 \r\nL 1196.340812 7.2 \r\n\" style=\"fill:none;stroke:#f0f0f0;stroke-linecap:square;stroke-linejoin:miter;stroke-width:3;\"/>\r\n   </g>\r\n   <g id=\"legend_1\">\r\n    <g id=\"patch_16\">\r\n     <path d=\"M 1061.752687 466.76 \r\nL 1186.540812 466.76 \r\nQ 1189.340812 466.76 1189.340812 463.96 \r\nL 1189.340812 444.810625 \r\nQ 1189.340812 442.010625 1186.540812 442.010625 \r\nL 1061.752687 442.010625 \r\nQ 1058.952687 442.010625 1058.952687 444.810625 \r\nL 1058.952687 463.96 \r\nQ 1058.952687 466.76 1061.752687 466.76 \r\nz\r\n\" style=\"fill:#f0f0f0;opacity:0.8;stroke:#cccccc;stroke-linejoin:miter;stroke-width:0.5;\"/>\r\n    </g>\r\n    <g id=\"patch_17\">\r\n     <path d=\"M 1064.552687 458.248437 \r\nL 1092.552687 458.248437 \r\nL 1092.552687 448.448437 \r\nL 1064.552687 448.448437 \r\nz\r\n\" style=\"fill:#008fd5;\"/>\r\n    </g>\r\n    <g id=\"text_19\">\r\n     <!-- importance -->\r\n     <g transform=\"translate(1103.752687 458.248437)scale(0.14 -0.14)\">\r\n      <defs>\r\n       <path d=\"M 9.421875 54.6875 \r\nL 18.40625 54.6875 \r\nL 18.40625 0 \r\nL 9.421875 0 \r\nz\r\nM 9.421875 75.984375 \r\nL 18.40625 75.984375 \r\nL 18.40625 64.59375 \r\nL 9.421875 64.59375 \r\nz\r\n\" id=\"DejaVuSans-105\"/>\r\n       <path d=\"M 52 44.1875 \r\nQ 55.375 50.25 60.0625 53.125 \r\nQ 64.75 56 71.09375 56 \r\nQ 79.640625 56 84.28125 50.015625 \r\nQ 88.921875 44.046875 88.921875 33.015625 \r\nL 88.921875 0 \r\nL 79.890625 0 \r\nL 79.890625 32.71875 \r\nQ 79.890625 40.578125 77.09375 44.375 \r\nQ 74.3125 48.1875 68.609375 48.1875 \r\nQ 61.625 48.1875 57.5625 43.546875 \r\nQ 53.515625 38.921875 53.515625 30.90625 \r\nL 53.515625 0 \r\nL 44.484375 0 \r\nL 44.484375 32.71875 \r\nQ 44.484375 40.625 41.703125 44.40625 \r\nQ 38.921875 48.1875 33.109375 48.1875 \r\nQ 26.21875 48.1875 22.15625 43.53125 \r\nQ 18.109375 38.875 18.109375 30.90625 \r\nL 18.109375 0 \r\nL 9.078125 0 \r\nL 9.078125 54.6875 \r\nL 18.109375 54.6875 \r\nL 18.109375 46.1875 \r\nQ 21.1875 51.21875 25.484375 53.609375 \r\nQ 29.78125 56 35.6875 56 \r\nQ 41.65625 56 45.828125 52.96875 \r\nQ 50 49.953125 52 44.1875 \r\nz\r\n\" id=\"DejaVuSans-109\"/>\r\n       <path d=\"M 54.890625 33.015625 \r\nL 54.890625 0 \r\nL 45.90625 0 \r\nL 45.90625 32.71875 \r\nQ 45.90625 40.484375 42.875 44.328125 \r\nQ 39.84375 48.1875 33.796875 48.1875 \r\nQ 26.515625 48.1875 22.3125 43.546875 \r\nQ 18.109375 38.921875 18.109375 30.90625 \r\nL 18.109375 0 \r\nL 9.078125 0 \r\nL 9.078125 54.6875 \r\nL 18.109375 54.6875 \r\nL 18.109375 46.1875 \r\nQ 21.34375 51.125 25.703125 53.5625 \r\nQ 30.078125 56 35.796875 56 \r\nQ 45.21875 56 50.046875 50.171875 \r\nQ 54.890625 44.34375 54.890625 33.015625 \r\nz\r\n\" id=\"DejaVuSans-110\"/>\r\n      </defs>\r\n      <use xlink:href=\"#DejaVuSans-105\"/>\r\n      <use x=\"27.783203\" xlink:href=\"#DejaVuSans-109\"/>\r\n      <use x=\"125.195312\" xlink:href=\"#DejaVuSans-112\"/>\r\n      <use x=\"188.671875\" xlink:href=\"#DejaVuSans-111\"/>\r\n      <use x=\"249.853516\" xlink:href=\"#DejaVuSans-114\"/>\r\n      <use x=\"290.966797\" xlink:href=\"#DejaVuSans-116\"/>\r\n      <use x=\"330.175781\" xlink:href=\"#DejaVuSans-97\"/>\r\n      <use x=\"391.455078\" xlink:href=\"#DejaVuSans-110\"/>\r\n      <use x=\"454.833984\" xlink:href=\"#DejaVuSans-99\"/>\r\n      <use x=\"509.814453\" xlink:href=\"#DejaVuSans-101\"/>\r\n     </g>\r\n    </g>\r\n   </g>\r\n  </g>\r\n </g>\r\n <defs>\r\n  <clipPath id=\"p648c06ea27\">\r\n   <rect height=\"466.56\" width=\"1002.24\" x=\"194.100813\" y=\"7.2\"/>\r\n  </clipPath>\r\n </defs>\r\n</svg>\r\n",
            "image/png": "[encoded data removed]"
          },
          "metadata": {}
        }
      ],
      "source": [
        "imp = pd.DataFrame({'feature': feature_names, 'importance': clf.feature_importances_})\n",
        "imp = imp.sort_values('importance').set_index('feature')\n",
        "imp.plot(kind='barh')"
      ]
    },
    {
      "source": [
        "### Submission file Creation"
      ],
      "cell_type": "markdown",
      "metadata": {}
    },
    {
      "cell_type": "code",
      "execution_count": 28,
      "metadata": {},
      "outputs": [
        {
          "output_type": "stream",
          "name": "stdout",
          "text": [
            "(80000, 1)\n"
          ]
        },
        {
          "output_type": "execute_result",
          "data": {
            "text/plain": [
              "        class\n",
              "id           \n",
              "320000      0\n",
              "320001      0\n",
              "320002      0\n",
              "320003      0\n",
              "320004      0"
            ],
            "text/html": "<div>\n<style scoped>\n    .dataframe tbody tr th:only-of-type {\n        vertical-align: middle;\n    }\n\n    .dataframe tbody tr th {\n        vertical-align: top;\n    }\n\n    .dataframe thead th {\n        text-align: right;\n    }\n</style>\n<table border=\"1\" class=\"dataframe\">\n  <thead>\n    <tr style=\"text-align: right;\">\n      <th></th>\n      <th>class</th>\n    </tr>\n    <tr>\n      <th>id</th>\n      <th></th>\n    </tr>\n  </thead>\n  <tbody>\n    <tr>\n      <th>320000</th>\n      <td>0</td>\n    </tr>\n    <tr>\n      <th>320001</th>\n      <td>0</td>\n    </tr>\n    <tr>\n      <th>320002</th>\n      <td>0</td>\n    </tr>\n    <tr>\n      <th>320003</th>\n      <td>0</td>\n    </tr>\n    <tr>\n      <th>320004</th>\n      <td>0</td>\n    </tr>\n  </tbody>\n</table>\n</div>"
          },
          "metadata": {},
          "execution_count": 28
        }
      ],
      "source": [
        "sub = pd.read_csv(sample_file, index_col=0)\n",
        "print(sub.shape)\n",
        "sub.head()"
      ]
    },
    {
      "cell_type": "code",
      "execution_count": 29,
      "metadata": {},
      "outputs": [
        {
          "output_type": "execute_result",
          "data": {
            "text/plain": [
              "        class\n",
              "id           \n",
              "320000      2\n",
              "320001      0\n",
              "320002      2\n",
              "320003      0\n",
              "320004      2"
            ],
            "text/html": "<div>\n<style scoped>\n    .dataframe tbody tr th:only-of-type {\n        vertical-align: middle;\n    }\n\n    .dataframe tbody tr th {\n        vertical-align: top;\n    }\n\n    .dataframe thead th {\n        text-align: right;\n    }\n</style>\n<table border=\"1\" class=\"dataframe\">\n  <thead>\n    <tr style=\"text-align: right;\">\n      <th></th>\n      <th>class</th>\n    </tr>\n    <tr>\n      <th>id</th>\n      <th></th>\n    </tr>\n  </thead>\n  <tbody>\n    <tr>\n      <th>320000</th>\n      <td>2</td>\n    </tr>\n    <tr>\n      <th>320001</th>\n      <td>0</td>\n    </tr>\n    <tr>\n      <th>320002</th>\n      <td>2</td>\n    </tr>\n    <tr>\n      <th>320003</th>\n      <td>0</td>\n    </tr>\n    <tr>\n      <th>320004</th>\n      <td>2</td>\n    </tr>\n  </tbody>\n</table>\n</div>"
          },
          "metadata": {},
          "execution_count": 29
        }
      ],
      "source": [
        "sub[target_col] = np.argmax(p_tst, axis=1)\n",
        "sub.head()"
      ]
    },
    {
      "cell_type": "code",
      "execution_count": 30,
      "metadata": {},
      "outputs": [
        {
          "output_type": "execute_result",
          "data": {
            "text/plain": [
              "2    41090\n",
              "0    29977\n",
              "1     8933\n",
              "Name: class, dtype: int64"
            ]
          },
          "metadata": {},
          "execution_count": 30
        }
      ],
      "source": [
        "sub[target_col].value_counts()"
      ]
    },
    {
      "cell_type": "code",
      "execution_count": 31,
      "metadata": {},
      "outputs": [],
      "source": [
        "sub.to_csv(sub_file)"
      ]
    },
    {
      "source": [
        "##  Logistic Regression"
      ],
      "cell_type": "markdown",
      "metadata": {}
    },
    {
      "cell_type": "code",
      "execution_count": 32,
      "metadata": {},
      "outputs": [],
      "source": [
        "model_names = ['lrcv_polyfeature', 'rfcv_feature', 'lgbcv_feature']"
      ]
    },
    {
      "cell_type": "code",
      "execution_count": 33,
      "metadata": {},
      "outputs": [],
      "source": [
        "algo_name = 'lrcv'\n",
        "feature_name = 'stacking1'\n",
        "model_name = f'{algo_name}_{feature_name}'\n",
        "\n",
        "feature_file = feature_dir / f'{feature_name}.csv'\n",
        "p_val_file = val_dir / f'{model_name}.val.csv'\n",
        "p_tst_file = tst_dir / f'{model_name}.tst.csv'\n",
        "sub_file = sub_dir / f'{model_name}.csv'"
      ]
    },
    {
      "source": [
        "### Stacking Feature 생성"
      ],
      "cell_type": "markdown",
      "metadata": {}
    },
    {
      "cell_type": "code",
      "execution_count": 34,
      "metadata": {},
      "outputs": [
        {
          "output_type": "stream",
          "name": "stdout",
          "text": [
            "(320000, 9) (80000, 9)\n"
          ]
        }
      ],
      "source": [
        "trn = []; tst = []\n",
        "\n",
        "for model in model_names:\n",
        "    trn.append(np.loadtxt(val_dir/f'{model}.val.csv', delimiter=','))\n",
        "    tst.append(np.loadtxt(tst_dir/f'{model}.tst.csv', delimiter=','))\n",
        "\n",
        "trn = np.hstack(trn)\n",
        "tst = np.hstack(tst)\n",
        "print(trn.shape, tst.shape)"
      ]
    },
    {
      "cell_type": "code",
      "execution_count": 36,
      "metadata": {},
      "outputs": [
        {
          "output_type": "execute_result",
          "data": {
            "text/plain": [
              "['lrcv_polyfeature_class0',\n",
              " 'lrcv_polyfeature_class1',\n",
              " 'lrcv_polyfeature_class2',\n",
              " 'rfcv_feature_class0',\n",
              " 'rfcv_feature_class1',\n",
              " 'rfcv_feature_class2',\n",
              " 'lgbcv_feature_class0',\n",
              " 'lgbcv_feature_class1',\n",
              " 'lgbcv_feature_class2']"
            ]
          },
          "metadata": {},
          "execution_count": 36
        }
      ],
      "source": [
        "feature_names = []\n",
        "for model in model_names:\n",
        "    feature_names += [f'{model}_class0', f'{model}_class1', f'{model}_class2']\n",
        "\n",
        "feature_names    "
      ]
    },
    {
      "cell_type": "code",
      "execution_count": 37,
      "metadata": {},
      "outputs": [
        {
          "output_type": "execute_result",
          "data": {
            "text/plain": [
              "(320000,)"
            ]
          },
          "metadata": {},
          "execution_count": 37
        }
      ],
      "source": [
        "y = pd.read_csv(trn_file, index_col=0, usecols=['id', target_col]).values.flatten()\n",
        "y.shape"
      ]
    },
    {
      "source": [
        "### Stratified K-Fold Cross Validation"
      ],
      "cell_type": "markdown",
      "metadata": {}
    },
    {
      "cell_type": "code",
      "execution_count": 38,
      "metadata": {},
      "outputs": [],
      "source": [
        "cv = StratifiedKFold(n_splits=n_fold, shuffle=True, random_state=seed)"
      ]
    },
    {
      "source": [
        "### Logistic Regression Training"
      ],
      "cell_type": "markdown",
      "metadata": {}
    },
    {
      "cell_type": "code",
      "execution_count": 39,
      "metadata": {},
      "outputs": [
        {
          "output_type": "stream",
          "name": "stdout",
          "text": [
            "training model for CV#1\n",
            "training model for CV#2\n",
            "training model for CV#3\n",
            "training model for CV#4\n",
            "training model for CV#5\n"
          ]
        }
      ],
      "source": [
        "p_val = np.zeros((trn.shape[0], n_class))\n",
        "p_tst = np.zeros((tst.shape[0], n_class))\n",
        "\n",
        "for i, (i_trn, i_val) in enumerate(cv.split(trn, y), 1):\n",
        "    print(f'training model for CV#{i}')\n",
        "\n",
        "    clf = LogisticRegression(multi_class='multinomial')\n",
        "    clf.fit(trn[i_trn], y[i_trn])\n",
        "    p_val[i_val, :] = clf.predict_proba(trn[i_val])\n",
        "    p_tst += clf.predict_proba(tst) / n_fold"
      ]
    },
    {
      "cell_type": "code",
      "execution_count": 40,
      "metadata": {},
      "outputs": [
        {
          "output_type": "stream",
          "name": "stdout",
          "text": [
            "93.0975%\n"
          ]
        }
      ],
      "source": [
        "print(f'{accuracy_score(y, np.argmax(p_val, axis=1))*100:.4f}%')"
      ]
    },
    {
      "cell_type": "code",
      "execution_count": 41,
      "metadata": {},
      "outputs": [
        {
          "output_type": "stream",
          "name": "stdout",
          "text": [
            "(320000, 3) (80000, 3)\n"
          ]
        }
      ],
      "source": [
        "print(p_val.shape, p_tst.shape)"
      ]
    },
    {
      "cell_type": "code",
      "execution_count": 42,
      "metadata": {},
      "outputs": [],
      "source": [
        "np.savetxt(p_val_file, p_val, fmt='%.6f', delimiter=',')\n",
        "np.savetxt(p_tst_file, p_tst, fmt='%.6f', delimiter=',')"
      ]
    },
    {
      "source": [
        "### Feature importance Visualization"
      ],
      "cell_type": "markdown",
      "metadata": {}
    },
    {
      "cell_type": "code",
      "execution_count": 43,
      "metadata": {},
      "outputs": [
        {
          "output_type": "execute_result",
          "data": {
            "text/plain": [
              "(3, 9)"
            ]
          },
          "metadata": {},
          "execution_count": 43
        }
      ],
      "source": [
        "clf.coef_.shape"
      ]
    },
    {
      "cell_type": "code",
      "execution_count": 44,
      "metadata": {},
      "outputs": [
        {
          "output_type": "execute_result",
          "data": {
            "text/plain": [
              "<AxesSubplot:ylabel='feature'>"
            ]
          },
          "metadata": {},
          "execution_count": 44
        },
        {
          "output_type": "display_data",
          "data": {
            "text/plain": "<Figure size 576x576 with 1 Axes>",
            "image/svg+xml": "<?xml version=\"1.0\" encoding=\"utf-8\" standalone=\"no\"?>\r\n<!DOCTYPE svg PUBLIC \"-//W3C//DTD SVG 1.1//EN\"\r\n  \"http://www.w3.org/Graphics/SVG/1.1/DTD/svg11.dtd\">\r\n<!-- Created with matplotlib (https://matplotlib.org/) -->\r\n<svg height=\"498.009375pt\" version=\"1.1\" viewBox=\"0 0 702.420813 498.009375\" width=\"702.420813pt\" xmlns=\"http://www.w3.org/2000/svg\" xmlns:xlink=\"http://www.w3.org/1999/xlink\">\r\n <metadata>\r\n  <rdf:RDF xmlns:cc=\"http://creativecommons.org/ns#\" xmlns:dc=\"http://purl.org/dc/elements/1.1/\" xmlns:rdf=\"http://www.w3.org/1999/02/22-rdf-syntax-ns#\">\r\n   <cc:Work>\r\n    <dc:type rdf:resource=\"http://purl.org/dc/dcmitype/StillImage\"/>\r\n    <dc:date>2020-12-28T00:00:31.537179</dc:date>\r\n    <dc:format>image/svg+xml</dc:format>\r\n    <dc:creator>\r\n     <cc:Agent>\r\n      <dc:title>Matplotlib v3.3.1, https://matplotlib.org/</dc:title>\r\n     </cc:Agent>\r\n    </dc:creator>\r\n   </cc:Work>\r\n  </rdf:RDF>\r\n </metadata>\r\n <defs>\r\n  <style type=\"text/css\">*{stroke-linecap:butt;stroke-linejoin:round;}</style>\r\n </defs>\r\n <g id=\"figure_1\">\r\n  <g id=\"patch_1\">\r\n   <path d=\"M 0 498.009375 \r\nL 702.420813 498.009375 \r\nL 702.420813 0 \r\nL 0 0 \r\nz\r\n\" style=\"fill:#f0f0f0;\"/>\r\n  </g>\r\n  <g id=\"axes_1\">\r\n   <g id=\"patch_2\">\r\n    <path d=\"M 194.100813 473.76 \r\nL 695.220812 473.76 \r\nL 695.220812 7.2 \r\nL 194.100813 7.2 \r\nz\r\n\" style=\"fill:#f0f0f0;\"/>\r\n   </g>\r\n   <g id=\"matplotlib.axis_1\">\r\n    <g id=\"xtick_1\">\r\n     <g id=\"line2d_1\">\r\n      <path clip-path=\"url(#p0176a893ba)\" d=\"M 209.970085 473.76 \r\nL 209.970085 7.2 \r\n\" style=\"fill:none;stroke:#cbcbcb;\"/>\r\n     </g>\r\n     <g id=\"line2d_2\"/>\r\n     <g id=\"text_1\">\r\n      <!-- −2.0 -->\r\n      <g transform=\"translate(192.972116 487.897812)scale(0.14 -0.14)\">\r\n       <defs>\r\n        <path d=\"M 10.59375 35.5 \r\nL 73.1875 35.5 \r\nL 73.1875 27.203125 \r\nL 10.59375 27.203125 \r\nz\r\n\" id=\"DejaVuSans-8722\"/>\r\n        <path d=\"M 19.1875 8.296875 \r\nL 53.609375 8.296875 \r\nL 53.609375 0 \r\nL 7.328125 0 \r\nL 7.328125 8.296875 \r\nQ 12.9375 14.109375 22.625 23.890625 \r\nQ 32.328125 33.6875 34.8125 36.53125 \r\nQ 39.546875 41.84375 41.421875 45.53125 \r\nQ 43.3125 49.21875 43.3125 52.78125 \r\nQ 43.3125 58.59375 39.234375 62.25 \r\nQ 35.15625 65.921875 28.609375 65.921875 \r\nQ 23.96875 65.921875 18.8125 64.3125 \r\nQ 13.671875 62.703125 7.8125 59.421875 \r\nL 7.8125 69.390625 \r\nQ 13.765625 71.78125 18.9375 73 \r\nQ 24.125 74.21875 28.421875 74.21875 \r\nQ 39.75 74.21875 46.484375 68.546875 \r\nQ 53.21875 62.890625 53.21875 53.421875 \r\nQ 53.21875 48.921875 51.53125 44.890625 \r\nQ 49.859375 40.875 45.40625 35.40625 \r\nQ 44.1875 33.984375 37.640625 27.21875 \r\nQ 31.109375 20.453125 19.1875 8.296875 \r\nz\r\n\" id=\"DejaVuSans-50\"/>\r\n        <path d=\"M 10.6875 12.40625 \r\nL 21 12.40625 \r\nL 21 0 \r\nL 10.6875 0 \r\nz\r\n\" id=\"DejaVuSans-46\"/>\r\n        <path d=\"M 31.78125 66.40625 \r\nQ 24.171875 66.40625 20.328125 58.90625 \r\nQ 16.5 51.421875 16.5 36.375 \r\nQ 16.5 21.390625 20.328125 13.890625 \r\nQ 24.171875 6.390625 31.78125 6.390625 \r\nQ 39.453125 6.390625 43.28125 13.890625 \r\nQ 47.125 21.390625 47.125 36.375 \r\nQ 47.125 51.421875 43.28125 58.90625 \r\nQ 39.453125 66.40625 31.78125 66.40625 \r\nz\r\nM 31.78125 74.21875 \r\nQ 44.046875 74.21875 50.515625 64.515625 \r\nQ 56.984375 54.828125 56.984375 36.375 \r\nQ 56.984375 17.96875 50.515625 8.265625 \r\nQ 44.046875 -1.421875 31.78125 -1.421875 \r\nQ 19.53125 -1.421875 13.0625 8.265625 \r\nQ 6.59375 17.96875 6.59375 36.375 \r\nQ 6.59375 54.828125 13.0625 64.515625 \r\nQ 19.53125 74.21875 31.78125 74.21875 \r\nz\r\n\" id=\"DejaVuSans-48\"/>\r\n       </defs>\r\n       <use xlink:href=\"#DejaVuSans-8722\"/>\r\n       <use x=\"83.789062\" xlink:href=\"#DejaVuSans-50\"/>\r\n       <use x=\"147.412109\" xlink:href=\"#DejaVuSans-46\"/>\r\n       <use x=\"179.199219\" xlink:href=\"#DejaVuSans-48\"/>\r\n      </g>\r\n     </g>\r\n    </g>\r\n    <g id=\"xtick_2\">\r\n     <g id=\"line2d_3\">\r\n      <path clip-path=\"url(#p0176a893ba)\" d=\"M 268.986255 473.76 \r\nL 268.986255 7.2 \r\n\" style=\"fill:none;stroke:#cbcbcb;\"/>\r\n     </g>\r\n     <g id=\"line2d_4\"/>\r\n     <g id=\"text_2\">\r\n      <!-- −1.5 -->\r\n      <g transform=\"translate(251.988287 487.897812)scale(0.14 -0.14)\">\r\n       <defs>\r\n        <path d=\"M 12.40625 8.296875 \r\nL 28.515625 8.296875 \r\nL 28.515625 63.921875 \r\nL 10.984375 60.40625 \r\nL 10.984375 69.390625 \r\nL 28.421875 72.90625 \r\nL 38.28125 72.90625 \r\nL 38.28125 8.296875 \r\nL 54.390625 8.296875 \r\nL 54.390625 0 \r\nL 12.40625 0 \r\nz\r\n\" id=\"DejaVuSans-49\"/>\r\n        <path d=\"M 10.796875 72.90625 \r\nL 49.515625 72.90625 \r\nL 49.515625 64.59375 \r\nL 19.828125 64.59375 \r\nL 19.828125 46.734375 \r\nQ 21.96875 47.46875 24.109375 47.828125 \r\nQ 26.265625 48.1875 28.421875 48.1875 \r\nQ 40.625 48.1875 47.75 41.5 \r\nQ 54.890625 34.8125 54.890625 23.390625 \r\nQ 54.890625 11.625 47.5625 5.09375 \r\nQ 40.234375 -1.421875 26.90625 -1.421875 \r\nQ 22.3125 -1.421875 17.546875 -0.640625 \r\nQ 12.796875 0.140625 7.71875 1.703125 \r\nL 7.71875 11.625 \r\nQ 12.109375 9.234375 16.796875 8.0625 \r\nQ 21.484375 6.890625 26.703125 6.890625 \r\nQ 35.15625 6.890625 40.078125 11.328125 \r\nQ 45.015625 15.765625 45.015625 23.390625 \r\nQ 45.015625 31 40.078125 35.4375 \r\nQ 35.15625 39.890625 26.703125 39.890625 \r\nQ 22.75 39.890625 18.8125 39.015625 \r\nQ 14.890625 38.140625 10.796875 36.28125 \r\nz\r\n\" id=\"DejaVuSans-53\"/>\r\n       </defs>\r\n       <use xlink:href=\"#DejaVuSans-8722\"/>\r\n       <use x=\"83.789062\" xlink:href=\"#DejaVuSans-49\"/>\r\n       <use x=\"147.412109\" xlink:href=\"#DejaVuSans-46\"/>\r\n       <use x=\"179.199219\" xlink:href=\"#DejaVuSans-53\"/>\r\n      </g>\r\n     </g>\r\n    </g>\r\n    <g id=\"xtick_3\">\r\n     <g id=\"line2d_5\">\r\n      <path clip-path=\"url(#p0176a893ba)\" d=\"M 328.002426 473.76 \r\nL 328.002426 7.2 \r\n\" style=\"fill:none;stroke:#cbcbcb;\"/>\r\n     </g>\r\n     <g id=\"line2d_6\"/>\r\n     <g id=\"text_3\">\r\n      <!-- −1.0 -->\r\n      <g transform=\"translate(311.004457 487.897812)scale(0.14 -0.14)\">\r\n       <use xlink:href=\"#DejaVuSans-8722\"/>\r\n       <use x=\"83.789062\" xlink:href=\"#DejaVuSans-49\"/>\r\n       <use x=\"147.412109\" xlink:href=\"#DejaVuSans-46\"/>\r\n       <use x=\"179.199219\" xlink:href=\"#DejaVuSans-48\"/>\r\n      </g>\r\n     </g>\r\n    </g>\r\n    <g id=\"xtick_4\">\r\n     <g id=\"line2d_7\">\r\n      <path clip-path=\"url(#p0176a893ba)\" d=\"M 387.018597 473.76 \r\nL 387.018597 7.2 \r\n\" style=\"fill:none;stroke:#cbcbcb;\"/>\r\n     </g>\r\n     <g id=\"line2d_8\"/>\r\n     <g id=\"text_4\">\r\n      <!-- −0.5 -->\r\n      <g transform=\"translate(370.020628 487.897812)scale(0.14 -0.14)\">\r\n       <use xlink:href=\"#DejaVuSans-8722\"/>\r\n       <use x=\"83.789062\" xlink:href=\"#DejaVuSans-48\"/>\r\n       <use x=\"147.412109\" xlink:href=\"#DejaVuSans-46\"/>\r\n       <use x=\"179.199219\" xlink:href=\"#DejaVuSans-53\"/>\r\n      </g>\r\n     </g>\r\n    </g>\r\n    <g id=\"xtick_5\">\r\n     <g id=\"line2d_9\">\r\n      <path clip-path=\"url(#p0176a893ba)\" d=\"M 446.034768 473.76 \r\nL 446.034768 7.2 \r\n\" style=\"fill:none;stroke:#cbcbcb;\"/>\r\n     </g>\r\n     <g id=\"line2d_10\"/>\r\n     <g id=\"text_5\">\r\n      <!-- 0.0 -->\r\n      <g transform=\"translate(434.90258 487.897812)scale(0.14 -0.14)\">\r\n       <use xlink:href=\"#DejaVuSans-48\"/>\r\n       <use x=\"63.623047\" xlink:href=\"#DejaVuSans-46\"/>\r\n       <use x=\"95.410156\" xlink:href=\"#DejaVuSans-48\"/>\r\n      </g>\r\n     </g>\r\n    </g>\r\n    <g id=\"xtick_6\">\r\n     <g id=\"line2d_11\">\r\n      <path clip-path=\"url(#p0176a893ba)\" d=\"M 505.050938 473.76 \r\nL 505.050938 7.2 \r\n\" style=\"fill:none;stroke:#cbcbcb;\"/>\r\n     </g>\r\n     <g id=\"line2d_12\"/>\r\n     <g id=\"text_6\">\r\n      <!-- 0.5 -->\r\n      <g transform=\"translate(493.918751 487.897812)scale(0.14 -0.14)\">\r\n       <use xlink:href=\"#DejaVuSans-48\"/>\r\n       <use x=\"63.623047\" xlink:href=\"#DejaVuSans-46\"/>\r\n       <use x=\"95.410156\" xlink:href=\"#DejaVuSans-53\"/>\r\n      </g>\r\n     </g>\r\n    </g>\r\n    <g id=\"xtick_7\">\r\n     <g id=\"line2d_13\">\r\n      <path clip-path=\"url(#p0176a893ba)\" d=\"M 564.067109 473.76 \r\nL 564.067109 7.2 \r\n\" style=\"fill:none;stroke:#cbcbcb;\"/>\r\n     </g>\r\n     <g id=\"line2d_14\"/>\r\n     <g id=\"text_7\">\r\n      <!-- 1.0 -->\r\n      <g transform=\"translate(552.934922 487.897812)scale(0.14 -0.14)\">\r\n       <use xlink:href=\"#DejaVuSans-49\"/>\r\n       <use x=\"63.623047\" xlink:href=\"#DejaVuSans-46\"/>\r\n       <use x=\"95.410156\" xlink:href=\"#DejaVuSans-48\"/>\r\n      </g>\r\n     </g>\r\n    </g>\r\n    <g id=\"xtick_8\">\r\n     <g id=\"line2d_15\">\r\n      <path clip-path=\"url(#p0176a893ba)\" d=\"M 623.08328 473.76 \r\nL 623.08328 7.2 \r\n\" style=\"fill:none;stroke:#cbcbcb;\"/>\r\n     </g>\r\n     <g id=\"line2d_16\"/>\r\n     <g id=\"text_8\">\r\n      <!-- 1.5 -->\r\n      <g transform=\"translate(611.951092 487.897812)scale(0.14 -0.14)\">\r\n       <use xlink:href=\"#DejaVuSans-49\"/>\r\n       <use x=\"63.623047\" xlink:href=\"#DejaVuSans-46\"/>\r\n       <use x=\"95.410156\" xlink:href=\"#DejaVuSans-53\"/>\r\n      </g>\r\n     </g>\r\n    </g>\r\n    <g id=\"xtick_9\">\r\n     <g id=\"line2d_17\">\r\n      <path clip-path=\"url(#p0176a893ba)\" d=\"M 682.099451 473.76 \r\nL 682.099451 7.2 \r\n\" style=\"fill:none;stroke:#cbcbcb;\"/>\r\n     </g>\r\n     <g id=\"line2d_18\"/>\r\n     <g id=\"text_9\">\r\n      <!-- 2.0 -->\r\n      <g transform=\"translate(670.967263 487.897812)scale(0.14 -0.14)\">\r\n       <use xlink:href=\"#DejaVuSans-50\"/>\r\n       <use x=\"63.623047\" xlink:href=\"#DejaVuSans-46\"/>\r\n       <use x=\"95.410156\" xlink:href=\"#DejaVuSans-48\"/>\r\n      </g>\r\n     </g>\r\n    </g>\r\n   </g>\r\n   <g id=\"matplotlib.axis_2\">\r\n    <g id=\"ytick_1\">\r\n     <g id=\"line2d_19\">\r\n      <path clip-path=\"url(#p0176a893ba)\" d=\"M 194.100813 447.84 \r\nL 695.220812 447.84 \r\n\" style=\"fill:none;stroke:#cbcbcb;\"/>\r\n     </g>\r\n     <g id=\"line2d_20\"/>\r\n     <g id=\"text_10\">\r\n      <!-- rfcv_feature_class0 -->\r\n      <g transform=\"translate(55.734875 453.158906)scale(0.14 -0.14)\">\r\n       <defs>\r\n        <path d=\"M 41.109375 46.296875 \r\nQ 39.59375 47.171875 37.8125 47.578125 \r\nQ 36.03125 48 33.890625 48 \r\nQ 26.265625 48 22.1875 43.046875 \r\nQ 18.109375 38.09375 18.109375 28.8125 \r\nL 18.109375 0 \r\nL 9.078125 0 \r\nL 9.078125 54.6875 \r\nL 18.109375 54.6875 \r\nL 18.109375 46.1875 \r\nQ 20.953125 51.171875 25.484375 53.578125 \r\nQ 30.03125 56 36.53125 56 \r\nQ 37.453125 56 38.578125 55.875 \r\nQ 39.703125 55.765625 41.0625 55.515625 \r\nz\r\n\" id=\"DejaVuSans-114\"/>\r\n        <path d=\"M 37.109375 75.984375 \r\nL 37.109375 68.5 \r\nL 28.515625 68.5 \r\nQ 23.6875 68.5 21.796875 66.546875 \r\nQ 19.921875 64.59375 19.921875 59.515625 \r\nL 19.921875 54.6875 \r\nL 34.71875 54.6875 \r\nL 34.71875 47.703125 \r\nL 19.921875 47.703125 \r\nL 19.921875 0 \r\nL 10.890625 0 \r\nL 10.890625 47.703125 \r\nL 2.296875 47.703125 \r\nL 2.296875 54.6875 \r\nL 10.890625 54.6875 \r\nL 10.890625 58.5 \r\nQ 10.890625 67.625 15.140625 71.796875 \r\nQ 19.390625 75.984375 28.609375 75.984375 \r\nz\r\n\" id=\"DejaVuSans-102\"/>\r\n        <path d=\"M 48.78125 52.59375 \r\nL 48.78125 44.1875 \r\nQ 44.96875 46.296875 41.140625 47.34375 \r\nQ 37.3125 48.390625 33.40625 48.390625 \r\nQ 24.65625 48.390625 19.8125 42.84375 \r\nQ 14.984375 37.3125 14.984375 27.296875 \r\nQ 14.984375 17.28125 19.8125 11.734375 \r\nQ 24.65625 6.203125 33.40625 6.203125 \r\nQ 37.3125 6.203125 41.140625 7.25 \r\nQ 44.96875 8.296875 48.78125 10.40625 \r\nL 48.78125 2.09375 \r\nQ 45.015625 0.34375 40.984375 -0.53125 \r\nQ 36.96875 -1.421875 32.421875 -1.421875 \r\nQ 20.0625 -1.421875 12.78125 6.34375 \r\nQ 5.515625 14.109375 5.515625 27.296875 \r\nQ 5.515625 40.671875 12.859375 48.328125 \r\nQ 20.21875 56 33.015625 56 \r\nQ 37.15625 56 41.109375 55.140625 \r\nQ 45.0625 54.296875 48.78125 52.59375 \r\nz\r\n\" id=\"DejaVuSans-99\"/>\r\n        <path d=\"M 2.984375 54.6875 \r\nL 12.5 54.6875 \r\nL 29.59375 8.796875 \r\nL 46.6875 54.6875 \r\nL 56.203125 54.6875 \r\nL 35.6875 0 \r\nL 23.484375 0 \r\nz\r\n\" id=\"DejaVuSans-118\"/>\r\n        <path d=\"M 50.984375 -16.609375 \r\nL 50.984375 -23.578125 \r\nL -0.984375 -23.578125 \r\nL -0.984375 -16.609375 \r\nz\r\n\" id=\"DejaVuSans-95\"/>\r\n        <path d=\"M 56.203125 29.59375 \r\nL 56.203125 25.203125 \r\nL 14.890625 25.203125 \r\nQ 15.484375 15.921875 20.484375 11.0625 \r\nQ 25.484375 6.203125 34.421875 6.203125 \r\nQ 39.59375 6.203125 44.453125 7.46875 \r\nQ 49.3125 8.734375 54.109375 11.28125 \r\nL 54.109375 2.78125 \r\nQ 49.265625 0.734375 44.1875 -0.34375 \r\nQ 39.109375 -1.421875 33.890625 -1.421875 \r\nQ 20.796875 -1.421875 13.15625 6.1875 \r\nQ 5.515625 13.8125 5.515625 26.8125 \r\nQ 5.515625 40.234375 12.765625 48.109375 \r\nQ 20.015625 56 32.328125 56 \r\nQ 43.359375 56 49.78125 48.890625 \r\nQ 56.203125 41.796875 56.203125 29.59375 \r\nz\r\nM 47.21875 32.234375 \r\nQ 47.125 39.59375 43.09375 43.984375 \r\nQ 39.0625 48.390625 32.421875 48.390625 \r\nQ 24.90625 48.390625 20.390625 44.140625 \r\nQ 15.875 39.890625 15.1875 32.171875 \r\nz\r\n\" id=\"DejaVuSans-101\"/>\r\n        <path d=\"M 34.28125 27.484375 \r\nQ 23.390625 27.484375 19.1875 25 \r\nQ 14.984375 22.515625 14.984375 16.5 \r\nQ 14.984375 11.71875 18.140625 8.90625 \r\nQ 21.296875 6.109375 26.703125 6.109375 \r\nQ 34.1875 6.109375 38.703125 11.40625 \r\nQ 43.21875 16.703125 43.21875 25.484375 \r\nL 43.21875 27.484375 \r\nz\r\nM 52.203125 31.203125 \r\nL 52.203125 0 \r\nL 43.21875 0 \r\nL 43.21875 8.296875 \r\nQ 40.140625 3.328125 35.546875 0.953125 \r\nQ 30.953125 -1.421875 24.3125 -1.421875 \r\nQ 15.921875 -1.421875 10.953125 3.296875 \r\nQ 6 8.015625 6 15.921875 \r\nQ 6 25.140625 12.171875 29.828125 \r\nQ 18.359375 34.515625 30.609375 34.515625 \r\nL 43.21875 34.515625 \r\nL 43.21875 35.40625 \r\nQ 43.21875 41.609375 39.140625 45 \r\nQ 35.0625 48.390625 27.6875 48.390625 \r\nQ 23 48.390625 18.546875 47.265625 \r\nQ 14.109375 46.140625 10.015625 43.890625 \r\nL 10.015625 52.203125 \r\nQ 14.9375 54.109375 19.578125 55.046875 \r\nQ 24.21875 56 28.609375 56 \r\nQ 40.484375 56 46.34375 49.84375 \r\nQ 52.203125 43.703125 52.203125 31.203125 \r\nz\r\n\" id=\"DejaVuSans-97\"/>\r\n        <path d=\"M 18.3125 70.21875 \r\nL 18.3125 54.6875 \r\nL 36.8125 54.6875 \r\nL 36.8125 47.703125 \r\nL 18.3125 47.703125 \r\nL 18.3125 18.015625 \r\nQ 18.3125 11.328125 20.140625 9.421875 \r\nQ 21.96875 7.515625 27.59375 7.515625 \r\nL 36.8125 7.515625 \r\nL 36.8125 0 \r\nL 27.59375 0 \r\nQ 17.1875 0 13.234375 3.875 \r\nQ 9.28125 7.765625 9.28125 18.015625 \r\nL 9.28125 47.703125 \r\nL 2.6875 47.703125 \r\nL 2.6875 54.6875 \r\nL 9.28125 54.6875 \r\nL 9.28125 70.21875 \r\nz\r\n\" id=\"DejaVuSans-116\"/>\r\n        <path d=\"M 8.5 21.578125 \r\nL 8.5 54.6875 \r\nL 17.484375 54.6875 \r\nL 17.484375 21.921875 \r\nQ 17.484375 14.15625 20.5 10.265625 \r\nQ 23.53125 6.390625 29.59375 6.390625 \r\nQ 36.859375 6.390625 41.078125 11.03125 \r\nQ 45.3125 15.671875 45.3125 23.6875 \r\nL 45.3125 54.6875 \r\nL 54.296875 54.6875 \r\nL 54.296875 0 \r\nL 45.3125 0 \r\nL 45.3125 8.40625 \r\nQ 42.046875 3.421875 37.71875 1 \r\nQ 33.40625 -1.421875 27.6875 -1.421875 \r\nQ 18.265625 -1.421875 13.375 4.4375 \r\nQ 8.5 10.296875 8.5 21.578125 \r\nz\r\nM 31.109375 56 \r\nz\r\n\" id=\"DejaVuSans-117\"/>\r\n        <path d=\"M 9.421875 75.984375 \r\nL 18.40625 75.984375 \r\nL 18.40625 0 \r\nL 9.421875 0 \r\nz\r\n\" id=\"DejaVuSans-108\"/>\r\n        <path d=\"M 44.28125 53.078125 \r\nL 44.28125 44.578125 \r\nQ 40.484375 46.53125 36.375 47.5 \r\nQ 32.28125 48.484375 27.875 48.484375 \r\nQ 21.1875 48.484375 17.84375 46.4375 \r\nQ 14.5 44.390625 14.5 40.28125 \r\nQ 14.5 37.15625 16.890625 35.375 \r\nQ 19.28125 33.59375 26.515625 31.984375 \r\nL 29.59375 31.296875 \r\nQ 39.15625 29.25 43.1875 25.515625 \r\nQ 47.21875 21.78125 47.21875 15.09375 \r\nQ 47.21875 7.46875 41.1875 3.015625 \r\nQ 35.15625 -1.421875 24.609375 -1.421875 \r\nQ 20.21875 -1.421875 15.453125 -0.5625 \r\nQ 10.6875 0.296875 5.421875 2 \r\nL 5.421875 11.28125 \r\nQ 10.40625 8.6875 15.234375 7.390625 \r\nQ 20.0625 6.109375 24.8125 6.109375 \r\nQ 31.15625 6.109375 34.5625 8.28125 \r\nQ 37.984375 10.453125 37.984375 14.40625 \r\nQ 37.984375 18.0625 35.515625 20.015625 \r\nQ 33.0625 21.96875 24.703125 23.78125 \r\nL 21.578125 24.515625 \r\nQ 13.234375 26.265625 9.515625 29.90625 \r\nQ 5.8125 33.546875 5.8125 39.890625 \r\nQ 5.8125 47.609375 11.28125 51.796875 \r\nQ 16.75 56 26.8125 56 \r\nQ 31.78125 56 36.171875 55.265625 \r\nQ 40.578125 54.546875 44.28125 53.078125 \r\nz\r\n\" id=\"DejaVuSans-115\"/>\r\n       </defs>\r\n       <use xlink:href=\"#DejaVuSans-114\"/>\r\n       <use x=\"41.113281\" xlink:href=\"#DejaVuSans-102\"/>\r\n       <use x=\"76.318359\" xlink:href=\"#DejaVuSans-99\"/>\r\n       <use x=\"131.298828\" xlink:href=\"#DejaVuSans-118\"/>\r\n       <use x=\"190.478516\" xlink:href=\"#DejaVuSans-95\"/>\r\n       <use x=\"240.478516\" xlink:href=\"#DejaVuSans-102\"/>\r\n       <use x=\"275.683594\" xlink:href=\"#DejaVuSans-101\"/>\r\n       <use x=\"337.207031\" xlink:href=\"#DejaVuSans-97\"/>\r\n       <use x=\"398.486328\" xlink:href=\"#DejaVuSans-116\"/>\r\n       <use x=\"437.695312\" xlink:href=\"#DejaVuSans-117\"/>\r\n       <use x=\"501.074219\" xlink:href=\"#DejaVuSans-114\"/>\r\n       <use x=\"539.9375\" xlink:href=\"#DejaVuSans-101\"/>\r\n       <use x=\"601.460938\" xlink:href=\"#DejaVuSans-95\"/>\r\n       <use x=\"651.460938\" xlink:href=\"#DejaVuSans-99\"/>\r\n       <use x=\"706.441406\" xlink:href=\"#DejaVuSans-108\"/>\r\n       <use x=\"734.224609\" xlink:href=\"#DejaVuSans-97\"/>\r\n       <use x=\"795.503906\" xlink:href=\"#DejaVuSans-115\"/>\r\n       <use x=\"847.603516\" xlink:href=\"#DejaVuSans-115\"/>\r\n       <use x=\"899.703125\" xlink:href=\"#DejaVuSans-48\"/>\r\n      </g>\r\n     </g>\r\n    </g>\r\n    <g id=\"ytick_2\">\r\n     <g id=\"line2d_21\">\r\n      <path clip-path=\"url(#p0176a893ba)\" d=\"M 194.100813 396 \r\nL 695.220812 396 \r\n\" style=\"fill:none;stroke:#cbcbcb;\"/>\r\n     </g>\r\n     <g id=\"line2d_22\"/>\r\n     <g id=\"text_11\">\r\n      <!-- lgbcv_feature_class0 -->\r\n      <g transform=\"translate(44.753625 401.318906)scale(0.14 -0.14)\">\r\n       <defs>\r\n        <path d=\"M 45.40625 27.984375 \r\nQ 45.40625 37.75 41.375 43.109375 \r\nQ 37.359375 48.484375 30.078125 48.484375 \r\nQ 22.859375 48.484375 18.828125 43.109375 \r\nQ 14.796875 37.75 14.796875 27.984375 \r\nQ 14.796875 18.265625 18.828125 12.890625 \r\nQ 22.859375 7.515625 30.078125 7.515625 \r\nQ 37.359375 7.515625 41.375 12.890625 \r\nQ 45.40625 18.265625 45.40625 27.984375 \r\nz\r\nM 54.390625 6.78125 \r\nQ 54.390625 -7.171875 48.1875 -13.984375 \r\nQ 42 -20.796875 29.203125 -20.796875 \r\nQ 24.46875 -20.796875 20.265625 -20.09375 \r\nQ 16.0625 -19.390625 12.109375 -17.921875 \r\nL 12.109375 -9.1875 \r\nQ 16.0625 -11.328125 19.921875 -12.34375 \r\nQ 23.78125 -13.375 27.78125 -13.375 \r\nQ 36.625 -13.375 41.015625 -8.765625 \r\nQ 45.40625 -4.15625 45.40625 5.171875 \r\nL 45.40625 9.625 \r\nQ 42.625 4.78125 38.28125 2.390625 \r\nQ 33.9375 0 27.875 0 \r\nQ 17.828125 0 11.671875 7.65625 \r\nQ 5.515625 15.328125 5.515625 27.984375 \r\nQ 5.515625 40.671875 11.671875 48.328125 \r\nQ 17.828125 56 27.875 56 \r\nQ 33.9375 56 38.28125 53.609375 \r\nQ 42.625 51.21875 45.40625 46.390625 \r\nL 45.40625 54.6875 \r\nL 54.390625 54.6875 \r\nz\r\n\" id=\"DejaVuSans-103\"/>\r\n        <path d=\"M 48.6875 27.296875 \r\nQ 48.6875 37.203125 44.609375 42.84375 \r\nQ 40.53125 48.484375 33.40625 48.484375 \r\nQ 26.265625 48.484375 22.1875 42.84375 \r\nQ 18.109375 37.203125 18.109375 27.296875 \r\nQ 18.109375 17.390625 22.1875 11.75 \r\nQ 26.265625 6.109375 33.40625 6.109375 \r\nQ 40.53125 6.109375 44.609375 11.75 \r\nQ 48.6875 17.390625 48.6875 27.296875 \r\nz\r\nM 18.109375 46.390625 \r\nQ 20.953125 51.265625 25.265625 53.625 \r\nQ 29.59375 56 35.59375 56 \r\nQ 45.5625 56 51.78125 48.09375 \r\nQ 58.015625 40.1875 58.015625 27.296875 \r\nQ 58.015625 14.40625 51.78125 6.484375 \r\nQ 45.5625 -1.421875 35.59375 -1.421875 \r\nQ 29.59375 -1.421875 25.265625 0.953125 \r\nQ 20.953125 3.328125 18.109375 8.203125 \r\nL 18.109375 0 \r\nL 9.078125 0 \r\nL 9.078125 75.984375 \r\nL 18.109375 75.984375 \r\nz\r\n\" id=\"DejaVuSans-98\"/>\r\n       </defs>\r\n       <use xlink:href=\"#DejaVuSans-108\"/>\r\n       <use x=\"27.783203\" xlink:href=\"#DejaVuSans-103\"/>\r\n       <use x=\"91.259766\" xlink:href=\"#DejaVuSans-98\"/>\r\n       <use x=\"154.736328\" xlink:href=\"#DejaVuSans-99\"/>\r\n       <use x=\"209.716797\" xlink:href=\"#DejaVuSans-118\"/>\r\n       <use x=\"268.896484\" xlink:href=\"#DejaVuSans-95\"/>\r\n       <use x=\"318.896484\" xlink:href=\"#DejaVuSans-102\"/>\r\n       <use x=\"354.101562\" xlink:href=\"#DejaVuSans-101\"/>\r\n       <use x=\"415.625\" xlink:href=\"#DejaVuSans-97\"/>\r\n       <use x=\"476.904297\" xlink:href=\"#DejaVuSans-116\"/>\r\n       <use x=\"516.113281\" xlink:href=\"#DejaVuSans-117\"/>\r\n       <use x=\"579.492188\" xlink:href=\"#DejaVuSans-114\"/>\r\n       <use x=\"618.355469\" xlink:href=\"#DejaVuSans-101\"/>\r\n       <use x=\"679.878906\" xlink:href=\"#DejaVuSans-95\"/>\r\n       <use x=\"729.878906\" xlink:href=\"#DejaVuSans-99\"/>\r\n       <use x=\"784.859375\" xlink:href=\"#DejaVuSans-108\"/>\r\n       <use x=\"812.642578\" xlink:href=\"#DejaVuSans-97\"/>\r\n       <use x=\"873.921875\" xlink:href=\"#DejaVuSans-115\"/>\r\n       <use x=\"926.021484\" xlink:href=\"#DejaVuSans-115\"/>\r\n       <use x=\"978.121094\" xlink:href=\"#DejaVuSans-48\"/>\r\n      </g>\r\n     </g>\r\n    </g>\r\n    <g id=\"ytick_3\">\r\n     <g id=\"line2d_23\">\r\n      <path clip-path=\"url(#p0176a893ba)\" d=\"M 194.100813 344.16 \r\nL 695.220812 344.16 \r\n\" style=\"fill:none;stroke:#cbcbcb;\"/>\r\n     </g>\r\n     <g id=\"line2d_24\"/>\r\n     <g id=\"text_12\">\r\n      <!-- lgbcv_feature_class2 -->\r\n      <g transform=\"translate(44.753625 349.478906)scale(0.14 -0.14)\">\r\n       <use xlink:href=\"#DejaVuSans-108\"/>\r\n       <use x=\"27.783203\" xlink:href=\"#DejaVuSans-103\"/>\r\n       <use x=\"91.259766\" xlink:href=\"#DejaVuSans-98\"/>\r\n       <use x=\"154.736328\" xlink:href=\"#DejaVuSans-99\"/>\r\n       <use x=\"209.716797\" xlink:href=\"#DejaVuSans-118\"/>\r\n       <use x=\"268.896484\" xlink:href=\"#DejaVuSans-95\"/>\r\n       <use x=\"318.896484\" xlink:href=\"#DejaVuSans-102\"/>\r\n       <use x=\"354.101562\" xlink:href=\"#DejaVuSans-101\"/>\r\n       <use x=\"415.625\" xlink:href=\"#DejaVuSans-97\"/>\r\n       <use x=\"476.904297\" xlink:href=\"#DejaVuSans-116\"/>\r\n       <use x=\"516.113281\" xlink:href=\"#DejaVuSans-117\"/>\r\n       <use x=\"579.492188\" xlink:href=\"#DejaVuSans-114\"/>\r\n       <use x=\"618.355469\" xlink:href=\"#DejaVuSans-101\"/>\r\n       <use x=\"679.878906\" xlink:href=\"#DejaVuSans-95\"/>\r\n       <use x=\"729.878906\" xlink:href=\"#DejaVuSans-99\"/>\r\n       <use x=\"784.859375\" xlink:href=\"#DejaVuSans-108\"/>\r\n       <use x=\"812.642578\" xlink:href=\"#DejaVuSans-97\"/>\r\n       <use x=\"873.921875\" xlink:href=\"#DejaVuSans-115\"/>\r\n       <use x=\"926.021484\" xlink:href=\"#DejaVuSans-115\"/>\r\n       <use x=\"978.121094\" xlink:href=\"#DejaVuSans-50\"/>\r\n      </g>\r\n     </g>\r\n    </g>\r\n    <g id=\"ytick_4\">\r\n     <g id=\"line2d_25\">\r\n      <path clip-path=\"url(#p0176a893ba)\" d=\"M 194.100813 292.32 \r\nL 695.220812 292.32 \r\n\" style=\"fill:none;stroke:#cbcbcb;\"/>\r\n     </g>\r\n     <g id=\"line2d_26\"/>\r\n     <g id=\"text_13\">\r\n      <!-- lrcv_polyfeature_class0 -->\r\n      <g transform=\"translate(27.45925 297.638906)scale(0.14 -0.14)\">\r\n       <defs>\r\n        <path d=\"M 18.109375 8.203125 \r\nL 18.109375 -20.796875 \r\nL 9.078125 -20.796875 \r\nL 9.078125 54.6875 \r\nL 18.109375 54.6875 \r\nL 18.109375 46.390625 \r\nQ 20.953125 51.265625 25.265625 53.625 \r\nQ 29.59375 56 35.59375 56 \r\nQ 45.5625 56 51.78125 48.09375 \r\nQ 58.015625 40.1875 58.015625 27.296875 \r\nQ 58.015625 14.40625 51.78125 6.484375 \r\nQ 45.5625 -1.421875 35.59375 -1.421875 \r\nQ 29.59375 -1.421875 25.265625 0.953125 \r\nQ 20.953125 3.328125 18.109375 8.203125 \r\nz\r\nM 48.6875 27.296875 \r\nQ 48.6875 37.203125 44.609375 42.84375 \r\nQ 40.53125 48.484375 33.40625 48.484375 \r\nQ 26.265625 48.484375 22.1875 42.84375 \r\nQ 18.109375 37.203125 18.109375 27.296875 \r\nQ 18.109375 17.390625 22.1875 11.75 \r\nQ 26.265625 6.109375 33.40625 6.109375 \r\nQ 40.53125 6.109375 44.609375 11.75 \r\nQ 48.6875 17.390625 48.6875 27.296875 \r\nz\r\n\" id=\"DejaVuSans-112\"/>\r\n        <path d=\"M 30.609375 48.390625 \r\nQ 23.390625 48.390625 19.1875 42.75 \r\nQ 14.984375 37.109375 14.984375 27.296875 \r\nQ 14.984375 17.484375 19.15625 11.84375 \r\nQ 23.34375 6.203125 30.609375 6.203125 \r\nQ 37.796875 6.203125 41.984375 11.859375 \r\nQ 46.1875 17.53125 46.1875 27.296875 \r\nQ 46.1875 37.015625 41.984375 42.703125 \r\nQ 37.796875 48.390625 30.609375 48.390625 \r\nz\r\nM 30.609375 56 \r\nQ 42.328125 56 49.015625 48.375 \r\nQ 55.71875 40.765625 55.71875 27.296875 \r\nQ 55.71875 13.875 49.015625 6.21875 \r\nQ 42.328125 -1.421875 30.609375 -1.421875 \r\nQ 18.84375 -1.421875 12.171875 6.21875 \r\nQ 5.515625 13.875 5.515625 27.296875 \r\nQ 5.515625 40.765625 12.171875 48.375 \r\nQ 18.84375 56 30.609375 56 \r\nz\r\n\" id=\"DejaVuSans-111\"/>\r\n        <path d=\"M 32.171875 -5.078125 \r\nQ 28.375 -14.84375 24.75 -17.8125 \r\nQ 21.140625 -20.796875 15.09375 -20.796875 \r\nL 7.90625 -20.796875 \r\nL 7.90625 -13.28125 \r\nL 13.1875 -13.28125 \r\nQ 16.890625 -13.28125 18.9375 -11.515625 \r\nQ 21 -9.765625 23.484375 -3.21875 \r\nL 25.09375 0.875 \r\nL 2.984375 54.6875 \r\nL 12.5 54.6875 \r\nL 29.59375 11.921875 \r\nL 46.6875 54.6875 \r\nL 56.203125 54.6875 \r\nz\r\n\" id=\"DejaVuSans-121\"/>\r\n       </defs>\r\n       <use xlink:href=\"#DejaVuSans-108\"/>\r\n       <use x=\"27.783203\" xlink:href=\"#DejaVuSans-114\"/>\r\n       <use x=\"66.646484\" xlink:href=\"#DejaVuSans-99\"/>\r\n       <use x=\"121.626953\" xlink:href=\"#DejaVuSans-118\"/>\r\n       <use x=\"180.806641\" xlink:href=\"#DejaVuSans-95\"/>\r\n       <use x=\"230.806641\" xlink:href=\"#DejaVuSans-112\"/>\r\n       <use x=\"294.283203\" xlink:href=\"#DejaVuSans-111\"/>\r\n       <use x=\"355.464844\" xlink:href=\"#DejaVuSans-108\"/>\r\n       <use x=\"383.248047\" xlink:href=\"#DejaVuSans-121\"/>\r\n       <use x=\"442.427734\" xlink:href=\"#DejaVuSans-102\"/>\r\n       <use x=\"477.632812\" xlink:href=\"#DejaVuSans-101\"/>\r\n       <use x=\"539.15625\" xlink:href=\"#DejaVuSans-97\"/>\r\n       <use x=\"600.435547\" xlink:href=\"#DejaVuSans-116\"/>\r\n       <use x=\"639.644531\" xlink:href=\"#DejaVuSans-117\"/>\r\n       <use x=\"703.023438\" xlink:href=\"#DejaVuSans-114\"/>\r\n       <use x=\"741.886719\" xlink:href=\"#DejaVuSans-101\"/>\r\n       <use x=\"803.410156\" xlink:href=\"#DejaVuSans-95\"/>\r\n       <use x=\"853.410156\" xlink:href=\"#DejaVuSans-99\"/>\r\n       <use x=\"908.390625\" xlink:href=\"#DejaVuSans-108\"/>\r\n       <use x=\"936.173828\" xlink:href=\"#DejaVuSans-97\"/>\r\n       <use x=\"997.453125\" xlink:href=\"#DejaVuSans-115\"/>\r\n       <use x=\"1049.552734\" xlink:href=\"#DejaVuSans-115\"/>\r\n       <use x=\"1101.652344\" xlink:href=\"#DejaVuSans-48\"/>\r\n      </g>\r\n     </g>\r\n    </g>\r\n    <g id=\"ytick_5\">\r\n     <g id=\"line2d_27\">\r\n      <path clip-path=\"url(#p0176a893ba)\" d=\"M 194.100813 240.48 \r\nL 695.220812 240.48 \r\n\" style=\"fill:none;stroke:#cbcbcb;\"/>\r\n     </g>\r\n     <g id=\"line2d_28\"/>\r\n     <g id=\"text_14\">\r\n      <!-- lrcv_polyfeature_class1 -->\r\n      <g transform=\"translate(27.45925 245.798906)scale(0.14 -0.14)\">\r\n       <use xlink:href=\"#DejaVuSans-108\"/>\r\n       <use x=\"27.783203\" xlink:href=\"#DejaVuSans-114\"/>\r\n       <use x=\"66.646484\" xlink:href=\"#DejaVuSans-99\"/>\r\n       <use x=\"121.626953\" xlink:href=\"#DejaVuSans-118\"/>\r\n       <use x=\"180.806641\" xlink:href=\"#DejaVuSans-95\"/>\r\n       <use x=\"230.806641\" xlink:href=\"#DejaVuSans-112\"/>\r\n       <use x=\"294.283203\" xlink:href=\"#DejaVuSans-111\"/>\r\n       <use x=\"355.464844\" xlink:href=\"#DejaVuSans-108\"/>\r\n       <use x=\"383.248047\" xlink:href=\"#DejaVuSans-121\"/>\r\n       <use x=\"442.427734\" xlink:href=\"#DejaVuSans-102\"/>\r\n       <use x=\"477.632812\" xlink:href=\"#DejaVuSans-101\"/>\r\n       <use x=\"539.15625\" xlink:href=\"#DejaVuSans-97\"/>\r\n       <use x=\"600.435547\" xlink:href=\"#DejaVuSans-116\"/>\r\n       <use x=\"639.644531\" xlink:href=\"#DejaVuSans-117\"/>\r\n       <use x=\"703.023438\" xlink:href=\"#DejaVuSans-114\"/>\r\n       <use x=\"741.886719\" xlink:href=\"#DejaVuSans-101\"/>\r\n       <use x=\"803.410156\" xlink:href=\"#DejaVuSans-95\"/>\r\n       <use x=\"853.410156\" xlink:href=\"#DejaVuSans-99\"/>\r\n       <use x=\"908.390625\" xlink:href=\"#DejaVuSans-108\"/>\r\n       <use x=\"936.173828\" xlink:href=\"#DejaVuSans-97\"/>\r\n       <use x=\"997.453125\" xlink:href=\"#DejaVuSans-115\"/>\r\n       <use x=\"1049.552734\" xlink:href=\"#DejaVuSans-115\"/>\r\n       <use x=\"1101.652344\" xlink:href=\"#DejaVuSans-49\"/>\r\n      </g>\r\n     </g>\r\n    </g>\r\n    <g id=\"ytick_6\">\r\n     <g id=\"line2d_29\">\r\n      <path clip-path=\"url(#p0176a893ba)\" d=\"M 194.100813 188.64 \r\nL 695.220812 188.64 \r\n\" style=\"fill:none;stroke:#cbcbcb;\"/>\r\n     </g>\r\n     <g id=\"line2d_30\"/>\r\n     <g id=\"text_15\">\r\n      <!-- lrcv_polyfeature_class2 -->\r\n      <g transform=\"translate(27.45925 193.958906)scale(0.14 -0.14)\">\r\n       <use xlink:href=\"#DejaVuSans-108\"/>\r\n       <use x=\"27.783203\" xlink:href=\"#DejaVuSans-114\"/>\r\n       <use x=\"66.646484\" xlink:href=\"#DejaVuSans-99\"/>\r\n       <use x=\"121.626953\" xlink:href=\"#DejaVuSans-118\"/>\r\n       <use x=\"180.806641\" xlink:href=\"#DejaVuSans-95\"/>\r\n       <use x=\"230.806641\" xlink:href=\"#DejaVuSans-112\"/>\r\n       <use x=\"294.283203\" xlink:href=\"#DejaVuSans-111\"/>\r\n       <use x=\"355.464844\" xlink:href=\"#DejaVuSans-108\"/>\r\n       <use x=\"383.248047\" xlink:href=\"#DejaVuSans-121\"/>\r\n       <use x=\"442.427734\" xlink:href=\"#DejaVuSans-102\"/>\r\n       <use x=\"477.632812\" xlink:href=\"#DejaVuSans-101\"/>\r\n       <use x=\"539.15625\" xlink:href=\"#DejaVuSans-97\"/>\r\n       <use x=\"600.435547\" xlink:href=\"#DejaVuSans-116\"/>\r\n       <use x=\"639.644531\" xlink:href=\"#DejaVuSans-117\"/>\r\n       <use x=\"703.023438\" xlink:href=\"#DejaVuSans-114\"/>\r\n       <use x=\"741.886719\" xlink:href=\"#DejaVuSans-101\"/>\r\n       <use x=\"803.410156\" xlink:href=\"#DejaVuSans-95\"/>\r\n       <use x=\"853.410156\" xlink:href=\"#DejaVuSans-99\"/>\r\n       <use x=\"908.390625\" xlink:href=\"#DejaVuSans-108\"/>\r\n       <use x=\"936.173828\" xlink:href=\"#DejaVuSans-97\"/>\r\n       <use x=\"997.453125\" xlink:href=\"#DejaVuSans-115\"/>\r\n       <use x=\"1049.552734\" xlink:href=\"#DejaVuSans-115\"/>\r\n       <use x=\"1101.652344\" xlink:href=\"#DejaVuSans-50\"/>\r\n      </g>\r\n     </g>\r\n    </g>\r\n    <g id=\"ytick_7\">\r\n     <g id=\"line2d_31\">\r\n      <path clip-path=\"url(#p0176a893ba)\" d=\"M 194.100813 136.8 \r\nL 695.220812 136.8 \r\n\" style=\"fill:none;stroke:#cbcbcb;\"/>\r\n     </g>\r\n     <g id=\"line2d_32\"/>\r\n     <g id=\"text_16\">\r\n      <!-- rfcv_feature_class2 -->\r\n      <g transform=\"translate(55.734875 142.118906)scale(0.14 -0.14)\">\r\n       <use xlink:href=\"#DejaVuSans-114\"/>\r\n       <use x=\"41.113281\" xlink:href=\"#DejaVuSans-102\"/>\r\n       <use x=\"76.318359\" xlink:href=\"#DejaVuSans-99\"/>\r\n       <use x=\"131.298828\" xlink:href=\"#DejaVuSans-118\"/>\r\n       <use x=\"190.478516\" xlink:href=\"#DejaVuSans-95\"/>\r\n       <use x=\"240.478516\" xlink:href=\"#DejaVuSans-102\"/>\r\n       <use x=\"275.683594\" xlink:href=\"#DejaVuSans-101\"/>\r\n       <use x=\"337.207031\" xlink:href=\"#DejaVuSans-97\"/>\r\n       <use x=\"398.486328\" xlink:href=\"#DejaVuSans-116\"/>\r\n       <use x=\"437.695312\" xlink:href=\"#DejaVuSans-117\"/>\r\n       <use x=\"501.074219\" xlink:href=\"#DejaVuSans-114\"/>\r\n       <use x=\"539.9375\" xlink:href=\"#DejaVuSans-101\"/>\r\n       <use x=\"601.460938\" xlink:href=\"#DejaVuSans-95\"/>\r\n       <use x=\"651.460938\" xlink:href=\"#DejaVuSans-99\"/>\r\n       <use x=\"706.441406\" xlink:href=\"#DejaVuSans-108\"/>\r\n       <use x=\"734.224609\" xlink:href=\"#DejaVuSans-97\"/>\r\n       <use x=\"795.503906\" xlink:href=\"#DejaVuSans-115\"/>\r\n       <use x=\"847.603516\" xlink:href=\"#DejaVuSans-115\"/>\r\n       <use x=\"899.703125\" xlink:href=\"#DejaVuSans-50\"/>\r\n      </g>\r\n     </g>\r\n    </g>\r\n    <g id=\"ytick_8\">\r\n     <g id=\"line2d_33\">\r\n      <path clip-path=\"url(#p0176a893ba)\" d=\"M 194.100813 84.96 \r\nL 695.220812 84.96 \r\n\" style=\"fill:none;stroke:#cbcbcb;\"/>\r\n     </g>\r\n     <g id=\"line2d_34\"/>\r\n     <g id=\"text_17\">\r\n      <!-- rfcv_feature_class1 -->\r\n      <g transform=\"translate(55.734875 90.278906)scale(0.14 -0.14)\">\r\n       <use xlink:href=\"#DejaVuSans-114\"/>\r\n       <use x=\"41.113281\" xlink:href=\"#DejaVuSans-102\"/>\r\n       <use x=\"76.318359\" xlink:href=\"#DejaVuSans-99\"/>\r\n       <use x=\"131.298828\" xlink:href=\"#DejaVuSans-118\"/>\r\n       <use x=\"190.478516\" xlink:href=\"#DejaVuSans-95\"/>\r\n       <use x=\"240.478516\" xlink:href=\"#DejaVuSans-102\"/>\r\n       <use x=\"275.683594\" xlink:href=\"#DejaVuSans-101\"/>\r\n       <use x=\"337.207031\" xlink:href=\"#DejaVuSans-97\"/>\r\n       <use x=\"398.486328\" xlink:href=\"#DejaVuSans-116\"/>\r\n       <use x=\"437.695312\" xlink:href=\"#DejaVuSans-117\"/>\r\n       <use x=\"501.074219\" xlink:href=\"#DejaVuSans-114\"/>\r\n       <use x=\"539.9375\" xlink:href=\"#DejaVuSans-101\"/>\r\n       <use x=\"601.460938\" xlink:href=\"#DejaVuSans-95\"/>\r\n       <use x=\"651.460938\" xlink:href=\"#DejaVuSans-99\"/>\r\n       <use x=\"706.441406\" xlink:href=\"#DejaVuSans-108\"/>\r\n       <use x=\"734.224609\" xlink:href=\"#DejaVuSans-97\"/>\r\n       <use x=\"795.503906\" xlink:href=\"#DejaVuSans-115\"/>\r\n       <use x=\"847.603516\" xlink:href=\"#DejaVuSans-115\"/>\r\n       <use x=\"899.703125\" xlink:href=\"#DejaVuSans-49\"/>\r\n      </g>\r\n     </g>\r\n    </g>\r\n    <g id=\"ytick_9\">\r\n     <g id=\"line2d_35\">\r\n      <path clip-path=\"url(#p0176a893ba)\" d=\"M 194.100813 33.12 \r\nL 695.220812 33.12 \r\n\" style=\"fill:none;stroke:#cbcbcb;\"/>\r\n     </g>\r\n     <g id=\"line2d_36\"/>\r\n     <g id=\"text_18\">\r\n      <!-- lgbcv_feature_class1 -->\r\n      <g transform=\"translate(44.753625 38.438906)scale(0.14 -0.14)\">\r\n       <use xlink:href=\"#DejaVuSans-108\"/>\r\n       <use x=\"27.783203\" xlink:href=\"#DejaVuSans-103\"/>\r\n       <use x=\"91.259766\" xlink:href=\"#DejaVuSans-98\"/>\r\n       <use x=\"154.736328\" xlink:href=\"#DejaVuSans-99\"/>\r\n       <use x=\"209.716797\" xlink:href=\"#DejaVuSans-118\"/>\r\n       <use x=\"268.896484\" xlink:href=\"#DejaVuSans-95\"/>\r\n       <use x=\"318.896484\" xlink:href=\"#DejaVuSans-102\"/>\r\n       <use x=\"354.101562\" xlink:href=\"#DejaVuSans-101\"/>\r\n       <use x=\"415.625\" xlink:href=\"#DejaVuSans-97\"/>\r\n       <use x=\"476.904297\" xlink:href=\"#DejaVuSans-116\"/>\r\n       <use x=\"516.113281\" xlink:href=\"#DejaVuSans-117\"/>\r\n       <use x=\"579.492188\" xlink:href=\"#DejaVuSans-114\"/>\r\n       <use x=\"618.355469\" xlink:href=\"#DejaVuSans-101\"/>\r\n       <use x=\"679.878906\" xlink:href=\"#DejaVuSans-95\"/>\r\n       <use x=\"729.878906\" xlink:href=\"#DejaVuSans-99\"/>\r\n       <use x=\"784.859375\" xlink:href=\"#DejaVuSans-108\"/>\r\n       <use x=\"812.642578\" xlink:href=\"#DejaVuSans-97\"/>\r\n       <use x=\"873.921875\" xlink:href=\"#DejaVuSans-115\"/>\r\n       <use x=\"926.021484\" xlink:href=\"#DejaVuSans-115\"/>\r\n       <use x=\"978.121094\" xlink:href=\"#DejaVuSans-49\"/>\r\n      </g>\r\n     </g>\r\n    </g>\r\n    <g id=\"text_19\">\r\n     <!-- feature -->\r\n     <g transform=\"translate(19.965375 270.802687)rotate(-90)scale(0.168 -0.168)\">\r\n      <use xlink:href=\"#DejaVuSans-102\"/>\r\n      <use x=\"35.205078\" xlink:href=\"#DejaVuSans-101\"/>\r\n      <use x=\"96.728516\" xlink:href=\"#DejaVuSans-97\"/>\r\n      <use x=\"158.007812\" xlink:href=\"#DejaVuSans-116\"/>\r\n      <use x=\"197.216797\" xlink:href=\"#DejaVuSans-117\"/>\r\n      <use x=\"260.595703\" xlink:href=\"#DejaVuSans-114\"/>\r\n      <use x=\"299.458984\" xlink:href=\"#DejaVuSans-101\"/>\r\n     </g>\r\n    </g>\r\n   </g>\r\n   <g id=\"patch_3\">\r\n    <path clip-path=\"url(#p0176a893ba)\" d=\"M 446.034768 460.8 \r\nL 216.878994 460.8 \r\nL 216.878994 434.88 \r\nL 446.034768 434.88 \r\nz\r\n\" style=\"fill:#008fd5;\"/>\r\n   </g>\r\n   <g id=\"patch_4\">\r\n    <path clip-path=\"url(#p0176a893ba)\" d=\"M 446.034768 408.96 \r\nL 309.339682 408.96 \r\nL 309.339682 383.04 \r\nL 446.034768 383.04 \r\nz\r\n\" style=\"fill:#008fd5;\"/>\r\n   </g>\r\n   <g id=\"patch_5\">\r\n    <path clip-path=\"url(#p0176a893ba)\" d=\"M 446.034768 357.12 \r\nL 363.533694 357.12 \r\nL 363.533694 331.2 \r\nL 446.034768 331.2 \r\nz\r\n\" style=\"fill:#008fd5;\"/>\r\n   </g>\r\n   <g id=\"patch_6\">\r\n    <path clip-path=\"url(#p0176a893ba)\" d=\"M 446.034768 305.28 \r\nL 417.997482 305.28 \r\nL 417.997482 279.36 \r\nL 446.034768 279.36 \r\nz\r\n\" style=\"fill:#008fd5;\"/>\r\n   </g>\r\n   <g id=\"patch_7\">\r\n    <path clip-path=\"url(#p0176a893ba)\" d=\"M 446.034768 253.44 \r\nL 452.712636 253.44 \r\nL 452.712636 227.52 \r\nL 446.034768 227.52 \r\nz\r\n\" style=\"fill:#008fd5;\"/>\r\n   </g>\r\n   <g id=\"patch_8\">\r\n    <path clip-path=\"url(#p0176a893ba)\" d=\"M 446.034768 201.6 \r\nL 474.604291 201.6 \r\nL 474.604291 175.68 \r\nL 446.034768 175.68 \r\nz\r\n\" style=\"fill:#008fd5;\"/>\r\n   </g>\r\n   <g id=\"patch_9\">\r\n    <path clip-path=\"url(#p0176a893ba)\" d=\"M 446.034768 149.76 \r\nL 531.334514 149.76 \r\nL 531.334514 123.84 \r\nL 446.034768 123.84 \r\nz\r\n\" style=\"fill:#008fd5;\"/>\r\n   </g>\r\n   <g id=\"patch_10\">\r\n    <path clip-path=\"url(#p0176a893ba)\" d=\"M 446.034768 97.92 \r\nL 597.102209 97.92 \r\nL 597.102209 72 \r\nL 446.034768 72 \r\nz\r\n\" style=\"fill:#008fd5;\"/>\r\n   </g>\r\n   <g id=\"patch_11\">\r\n    <path clip-path=\"url(#p0176a893ba)\" d=\"M 446.034768 46.08 \r\nL 672.442631 46.08 \r\nL 672.442631 20.16 \r\nL 446.034768 20.16 \r\nz\r\n\" style=\"fill:#008fd5;\"/>\r\n   </g>\r\n   <g id=\"patch_12\">\r\n    <path d=\"M 194.100813 473.76 \r\nL 194.100813 7.2 \r\n\" style=\"fill:none;stroke:#f0f0f0;stroke-linecap:square;stroke-linejoin:miter;stroke-width:3;\"/>\r\n   </g>\r\n   <g id=\"patch_13\">\r\n    <path d=\"M 695.220812 473.76 \r\nL 695.220812 7.2 \r\n\" style=\"fill:none;stroke:#f0f0f0;stroke-linecap:square;stroke-linejoin:miter;stroke-width:3;\"/>\r\n   </g>\r\n   <g id=\"patch_14\">\r\n    <path d=\"M 194.100812 473.76 \r\nL 695.220812 473.76 \r\n\" style=\"fill:none;stroke:#f0f0f0;stroke-linecap:square;stroke-linejoin:miter;stroke-width:3;\"/>\r\n   </g>\r\n   <g id=\"patch_15\">\r\n    <path d=\"M 194.100812 7.2 \r\nL 695.220812 7.2 \r\n\" style=\"fill:none;stroke:#f0f0f0;stroke-linecap:square;stroke-linejoin:miter;stroke-width:3;\"/>\r\n   </g>\r\n   <g id=\"legend_1\">\r\n    <g id=\"patch_16\">\r\n     <path d=\"M 203.900813 38.949375 \r\nL 328.688938 38.949375 \r\nQ 331.488938 38.949375 331.488938 36.149375 \r\nL 331.488938 17 \r\nQ 331.488938 14.2 328.688938 14.2 \r\nL 203.900813 14.2 \r\nQ 201.100813 14.2 201.100813 17 \r\nL 201.100813 36.149375 \r\nQ 201.100813 38.949375 203.900813 38.949375 \r\nz\r\n\" style=\"fill:#f0f0f0;opacity:0.8;stroke:#cccccc;stroke-linejoin:miter;stroke-width:0.5;\"/>\r\n    </g>\r\n    <g id=\"patch_17\">\r\n     <path d=\"M 206.700813 30.437812 \r\nL 234.700813 30.437812 \r\nL 234.700813 20.637812 \r\nL 206.700813 20.637812 \r\nz\r\n\" style=\"fill:#008fd5;\"/>\r\n    </g>\r\n    <g id=\"text_20\">\r\n     <!-- importance -->\r\n     <g transform=\"translate(245.900813 30.437812)scale(0.14 -0.14)\">\r\n      <defs>\r\n       <path d=\"M 9.421875 54.6875 \r\nL 18.40625 54.6875 \r\nL 18.40625 0 \r\nL 9.421875 0 \r\nz\r\nM 9.421875 75.984375 \r\nL 18.40625 75.984375 \r\nL 18.40625 64.59375 \r\nL 9.421875 64.59375 \r\nz\r\n\" id=\"DejaVuSans-105\"/>\r\n       <path d=\"M 52 44.1875 \r\nQ 55.375 50.25 60.0625 53.125 \r\nQ 64.75 56 71.09375 56 \r\nQ 79.640625 56 84.28125 50.015625 \r\nQ 88.921875 44.046875 88.921875 33.015625 \r\nL 88.921875 0 \r\nL 79.890625 0 \r\nL 79.890625 32.71875 \r\nQ 79.890625 40.578125 77.09375 44.375 \r\nQ 74.3125 48.1875 68.609375 48.1875 \r\nQ 61.625 48.1875 57.5625 43.546875 \r\nQ 53.515625 38.921875 53.515625 30.90625 \r\nL 53.515625 0 \r\nL 44.484375 0 \r\nL 44.484375 32.71875 \r\nQ 44.484375 40.625 41.703125 44.40625 \r\nQ 38.921875 48.1875 33.109375 48.1875 \r\nQ 26.21875 48.1875 22.15625 43.53125 \r\nQ 18.109375 38.875 18.109375 30.90625 \r\nL 18.109375 0 \r\nL 9.078125 0 \r\nL 9.078125 54.6875 \r\nL 18.109375 54.6875 \r\nL 18.109375 46.1875 \r\nQ 21.1875 51.21875 25.484375 53.609375 \r\nQ 29.78125 56 35.6875 56 \r\nQ 41.65625 56 45.828125 52.96875 \r\nQ 50 49.953125 52 44.1875 \r\nz\r\n\" id=\"DejaVuSans-109\"/>\r\n       <path d=\"M 54.890625 33.015625 \r\nL 54.890625 0 \r\nL 45.90625 0 \r\nL 45.90625 32.71875 \r\nQ 45.90625 40.484375 42.875 44.328125 \r\nQ 39.84375 48.1875 33.796875 48.1875 \r\nQ 26.515625 48.1875 22.3125 43.546875 \r\nQ 18.109375 38.921875 18.109375 30.90625 \r\nL 18.109375 0 \r\nL 9.078125 0 \r\nL 9.078125 54.6875 \r\nL 18.109375 54.6875 \r\nL 18.109375 46.1875 \r\nQ 21.34375 51.125 25.703125 53.5625 \r\nQ 30.078125 56 35.796875 56 \r\nQ 45.21875 56 50.046875 50.171875 \r\nQ 54.890625 44.34375 54.890625 33.015625 \r\nz\r\n\" id=\"DejaVuSans-110\"/>\r\n      </defs>\r\n      <use xlink:href=\"#DejaVuSans-105\"/>\r\n      <use x=\"27.783203\" xlink:href=\"#DejaVuSans-109\"/>\r\n      <use x=\"125.195312\" xlink:href=\"#DejaVuSans-112\"/>\r\n      <use x=\"188.671875\" xlink:href=\"#DejaVuSans-111\"/>\r\n      <use x=\"249.853516\" xlink:href=\"#DejaVuSans-114\"/>\r\n      <use x=\"290.966797\" xlink:href=\"#DejaVuSans-116\"/>\r\n      <use x=\"330.175781\" xlink:href=\"#DejaVuSans-97\"/>\r\n      <use x=\"391.455078\" xlink:href=\"#DejaVuSans-110\"/>\r\n      <use x=\"454.833984\" xlink:href=\"#DejaVuSans-99\"/>\r\n      <use x=\"509.814453\" xlink:href=\"#DejaVuSans-101\"/>\r\n     </g>\r\n    </g>\r\n   </g>\r\n  </g>\r\n </g>\r\n <defs>\r\n  <clipPath id=\"p0176a893ba\">\r\n   <rect height=\"466.56\" width=\"501.12\" x=\"194.100813\" y=\"7.2\"/>\r\n  </clipPath>\r\n </defs>\r\n</svg>\r\n",
            "image/png": "[encoded data removed]"
          },
          "metadata": {}
        }
      ],
      "source": [
        "imp = pd.DataFrame({'feature': feature_names, 'importance': clf.coef_[1,:].T})\n",
        "imp = imp.sort_values('importance').set_index('feature')\n",
        "imp.plot(kind='barh', figsize=(8,8))"
      ]
    },
    {
      "source": [
        "### Submission file Creation"
      ],
      "cell_type": "markdown",
      "metadata": {}
    },
    {
      "cell_type": "code",
      "execution_count": 46,
      "metadata": {},
      "outputs": [
        {
          "output_type": "stream",
          "name": "stdout",
          "text": [
            "(80000, 1)\n"
          ]
        },
        {
          "output_type": "execute_result",
          "data": {
            "text/plain": [
              "        class\n",
              "id           \n",
              "320000      0\n",
              "320001      0\n",
              "320002      0\n",
              "320003      0\n",
              "320004      0"
            ],
            "text/html": "<div>\n<style scoped>\n    .dataframe tbody tr th:only-of-type {\n        vertical-align: middle;\n    }\n\n    .dataframe tbody tr th {\n        vertical-align: top;\n    }\n\n    .dataframe thead th {\n        text-align: right;\n    }\n</style>\n<table border=\"1\" class=\"dataframe\">\n  <thead>\n    <tr style=\"text-align: right;\">\n      <th></th>\n      <th>class</th>\n    </tr>\n    <tr>\n      <th>id</th>\n      <th></th>\n    </tr>\n  </thead>\n  <tbody>\n    <tr>\n      <th>320000</th>\n      <td>0</td>\n    </tr>\n    <tr>\n      <th>320001</th>\n      <td>0</td>\n    </tr>\n    <tr>\n      <th>320002</th>\n      <td>0</td>\n    </tr>\n    <tr>\n      <th>320003</th>\n      <td>0</td>\n    </tr>\n    <tr>\n      <th>320004</th>\n      <td>0</td>\n    </tr>\n  </tbody>\n</table>\n</div>"
          },
          "metadata": {},
          "execution_count": 46
        }
      ],
      "source": [
        "sub = pd.read_csv(sample_file, index_col=0)\n",
        "print(sub.shape)\n",
        "sub.head()"
      ]
    },
    {
      "cell_type": "code",
      "execution_count": 47,
      "metadata": {},
      "outputs": [
        {
          "output_type": "execute_result",
          "data": {
            "text/plain": [
              "        class\n",
              "id           \n",
              "320000      2\n",
              "320001      0\n",
              "320002      2\n",
              "320003      0\n",
              "320004      2"
            ],
            "text/html": "<div>\n<style scoped>\n    .dataframe tbody tr th:only-of-type {\n        vertical-align: middle;\n    }\n\n    .dataframe tbody tr th {\n        vertical-align: top;\n    }\n\n    .dataframe thead th {\n        text-align: right;\n    }\n</style>\n<table border=\"1\" class=\"dataframe\">\n  <thead>\n    <tr style=\"text-align: right;\">\n      <th></th>\n      <th>class</th>\n    </tr>\n    <tr>\n      <th>id</th>\n      <th></th>\n    </tr>\n  </thead>\n  <tbody>\n    <tr>\n      <th>320000</th>\n      <td>2</td>\n    </tr>\n    <tr>\n      <th>320001</th>\n      <td>0</td>\n    </tr>\n    <tr>\n      <th>320002</th>\n      <td>2</td>\n    </tr>\n    <tr>\n      <th>320003</th>\n      <td>0</td>\n    </tr>\n    <tr>\n      <th>320004</th>\n      <td>2</td>\n    </tr>\n  </tbody>\n</table>\n</div>"
          },
          "metadata": {},
          "execution_count": 47
        }
      ],
      "source": [
        "sub[target_col] = np.argmax(p_tst, axis=1)\n",
        "sub.head()"
      ]
    },
    {
      "cell_type": "code",
      "execution_count": 48,
      "metadata": {},
      "outputs": [
        {
          "output_type": "execute_result",
          "data": {
            "text/plain": [
              "2    41219\n",
              "0    29970\n",
              "1     8811\n",
              "Name: class, dtype: int64"
            ]
          },
          "metadata": {},
          "execution_count": 48
        }
      ],
      "source": [
        "sub[target_col].value_counts()"
      ]
    },
    {
      "cell_type": "code",
      "execution_count": 49,
      "metadata": {},
      "outputs": [],
      "source": [
        "sub.to_csv(sub_file)"
      ]
    }
  ]
}